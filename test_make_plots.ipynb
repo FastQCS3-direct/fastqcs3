{
 "cells": [
  {
   "cell_type": "code",
   "execution_count": 26,
   "id": "circular-composer",
   "metadata": {},
   "outputs": [],
   "source": [
    "from make_plots import get_scores, sum_scores, plot_qualities#, plotly_stacked_barplot\n",
    "import pandas as pd\n",
    "import plotly.graph_objects as go"
   ]
  },
  {
   "cell_type": "code",
   "execution_count": 27,
   "id": "average-torture",
   "metadata": {},
   "outputs": [],
   "source": [
    "def test_get_scores_1():\n",
    "    \"\"\"This function checks the datatype of the output score\"\"\"\n",
    "    filename = '../jdm_sample_seqs/12_S12_L001_R1_001.fastq.gz'\n",
    "    depth = 1000\n",
    "    result = get_scores(filename, depth)\n",
    "    assert isinstance(result, pd.DataFrame), 'scores are \\\n",
    "    not being output as a dataframe'\n",
    "    return"
   ]
  },
  {
   "cell_type": "code",
   "execution_count": 28,
   "id": "extreme-munich",
   "metadata": {},
   "outputs": [],
   "source": [
    "test_get_scores_1()"
   ]
  },
  {
   "cell_type": "code",
   "execution_count": 29,
   "id": "surprised-newark",
   "metadata": {},
   "outputs": [],
   "source": [
    "def test_sum_scores_1():\n",
    "    \"\"\"This function checks the datatype of the objects returned\n",
    "    by the sum_scores function\"\"\"\n",
    "    directory = '../jdm_sample_seqs/'\n",
    "    depth = 1000\n",
    "    read_pos, sum_df = sum_scores(directory, depth)\n",
    "    assert isinstance(read_pos, list) and isinstance(\n",
    "        sum_df, pd.DataFrame), f'sum_scores function is returning \\\n",
    "    objects that look like {type(read_pos)} and {type(sum_df)}'\n",
    "    return"
   ]
  },
  {
   "cell_type": "code",
   "execution_count": 30,
   "id": "intended-juvenile",
   "metadata": {},
   "outputs": [],
   "source": [
    "test_sum_scores_1()"
   ]
  },
  {
   "cell_type": "code",
   "execution_count": 41,
   "id": "copyrighted-invite",
   "metadata": {},
   "outputs": [],
   "source": [
    "def test_plot_qualities_1():\n",
    "    \"\"\"This function checks the datatype of the figure object\n",
    "    returned by the plot_qualities function\"\"\"\n",
    "    directory = '../jdm_sample_seqs/'\n",
    "    depth = 1000\n",
    "    fig = plot_qualities(directory, depth)\n",
    "    assert isinstance(fig, go.Figure), 'the \\\n",
    "    figure being returned is not the type of object we expect'\n",
    "    return"
   ]
  },
  {
   "cell_type": "code",
   "execution_count": 42,
   "id": "parental-occurrence",
   "metadata": {},
   "outputs": [],
   "source": [
    "test_plot_qualities_1()"
   ]
  },
  {
   "cell_type": "code",
   "execution_count": null,
   "id": "arabic-faculty",
   "metadata": {},
   "outputs": [],
   "source": []
  }
 ],
 "metadata": {
  "kernelspec": {
   "display_name": "Python 3",
   "language": "python",
   "name": "python3"
  },
  "language_info": {
   "codemirror_mode": {
    "name": "ipython",
    "version": 3
   },
   "file_extension": ".py",
   "mimetype": "text/x-python",
   "name": "python",
   "nbconvert_exporter": "python",
   "pygments_lexer": "ipython3",
   "version": "3.8.5"
  }
 },
 "nbformat": 4,
 "nbformat_minor": 5
}
