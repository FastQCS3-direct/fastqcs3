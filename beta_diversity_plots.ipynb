{
 "cells": [
  {
   "cell_type": "code",
   "execution_count": null,
   "id": "interior-jaguar",
   "metadata": {},
   "outputs": [],
   "source": [
    "# Import libraries\n",
    "import pandas as pd\n",
    "from skbio.stats.ordination import pcoa\n",
    "import plotly.express as px"
   ]
  },
  {
   "cell_type": "code",
   "execution_count": null,
   "id": "arbitrary-wallpaper",
   "metadata": {},
   "outputs": [],
   "source": [
    "def bray_beta_diversity_clean():\n",
    "    \"\"\"function that cleans data and generates final data frame for bray-curtis pcoa beta diversity plots\"\"\"\n",
    "    # Load and clean metadata\n",
    "    metadata = pd.read_csv('metadata.tsv', sep='\\t')\n",
    "    metadata = metadata.drop(metadata.index[0])\n",
    "    metadata = metadata.reset_index(drop=True)\n",
    "    \n",
    "    # Bray Curtis\n",
    "    bray = pd.read_csv('bray-distance-matrix.tsv', sep='\\t', index_col=0)\n",
    "    bray_different_index = pd.read_csv('bray-distance-matrix.tsv', sep='\\t')\n",
    "    bray_distance_matrix = bray.rename_axis('sample-id', axis=\"columns\")\n",
    "    \n",
    "    # PCOA Analysis and result matrix\n",
    "    bray_pcoa = pcoa(bray_distance_matrix);\n",
    "    bray_final_results = bray_pcoa.samples\n",
    "    bray_final_results = bray_final_results.reset_index()\n",
    "    \n",
    "    # Cleaning sample ids to join to result matrix\n",
    "    bray_sample_id = bray_different_index[['Unnamed: 0']]\n",
    "    bray_sample_id = bray_sample_id.rename(columns={'Unnamed: 0':'sample-id'})\n",
    "    bray_sample_id = bray_sample_id.reset_index()\n",
    "    \n",
    "    # Constructing final matrix with PCoA results AND metadata\n",
    "    bray_pcoa_results = bray_sample_id.join(bray_final_results, on='index', lsuffix='l',rsuffix='r')\n",
    "    bray_pcoa_results = bray_pcoa_results.drop(labels = ['indexl','indexr'],axis=1)\n",
    "    bray_metadata_to_plot = metadata.merge(bray_pcoa_results,how='outer')\n",
    "    return bray_metadata_to_plot"
   ]
  },
  {
   "cell_type": "code",
   "execution_count": null,
   "id": "excellent-postage",
   "metadata": {},
   "outputs": [],
   "source": [
    "def unifrac_beta_diversity_clean():\n",
    "    \"\"\"function that cleans data and generates final data frame for weighted unifrac pcoa beta diversity plots\"\"\"\n",
    "    # Load and clean metadata\n",
    "    metadata = pd.read_csv('metadata.tsv', sep='\\t')\n",
    "    metadata = metadata.drop(metadata.index[0])\n",
    "    metadata = metadata.reset_index(drop=True)\n",
    "    \n",
    "    # Weighted Unifrac\n",
    "    unifrac = pd.read_csv('unifrac-distance-matrix.tsv', sep='\\t',index_col=0)\n",
    "    unifrac_different_index = pd.read_csv('unifrac-distance-matrix.tsv', sep='\\t')\n",
    "    unifrac_distance_matrix = unifrac.rename_axis('sample-id',axis='columns')\n",
    "    \n",
    "    # PCOA Analysis and result matrix\n",
    "    unifrac_pcoa = pcoa(unifrac_distance_matrix);\n",
    "    unifrac_final_results = unifrac_pcoa.samples\n",
    "    unifrac_final_results = unifrac_final_results.reset_index()\n",
    "    \n",
    "    # Cleaning sample ids to join to result matrix\n",
    "    unifrac_sample_id = unifrac_different_index[['Unnamed: 0']]\n",
    "    unifrac_sample_id = unifrac_sample_id.rename(columns={'Unnamed: 0':'sample-id'})\n",
    "    unifrac_sample_id = unifrac_sample_id.reset_index()\n",
    "    \n",
    "    # Constructing final matrix with PCoA Results AND metadata\n",
    "    unifrac_pcoa_results = unifrac_sample_id.join(unifrac_final_results, on='index', lsuffix='l',rsuffix='r')\n",
    "    unifrac_pcoa_results = unifrac_pcoa_results.drop(labels = ['indexl','indexr'],axis=1)\n",
    "    unifrac_metadata_to_plot = metadata.merge(unifrac_pcoa_results,how='outer')\n",
    "    return unifrac_metadata_to_plot"
   ]
  },
  {
   "cell_type": "code",
   "execution_count": null,
   "id": "studied-poker",
   "metadata": {},
   "outputs": [],
   "source": [
    "bray_metadata_to_plot=bray_beta_diversity_clean()"
   ]
  },
  {
   "cell_type": "code",
   "execution_count": null,
   "id": "differential-potter",
   "metadata": {},
   "outputs": [],
   "source": [
    "unifrac_metadata_to_plot=unifrac_beta_diversity_clean()"
   ]
  },
  {
   "cell_type": "code",
   "execution_count": null,
   "id": "sized-kuwait",
   "metadata": {},
   "outputs": [],
   "source": [
    "fig = px.scatter_3d(bray_metadata_to_plot, x='PC1', y='PC2', z='PC3', color='PC4', symbol='body-site')\n",
    "fig.show()"
   ]
  },
  {
   "cell_type": "code",
   "execution_count": null,
   "id": "intellectual-accounting",
   "metadata": {},
   "outputs": [],
   "source": [
    "fig = px.scatter_3d(unifrac_metadata_to_plot, x='PC1', y='PC2', z='PC3', color='body-site')\n",
    "fig.show()"
   ]
  },
  {
   "cell_type": "code",
   "execution_count": null,
   "id": "sustainable-sessions",
   "metadata": {},
   "outputs": [],
   "source": []
  }
 ],
 "metadata": {
  "kernelspec": {
   "display_name": "Python 3",
   "language": "python",
   "name": "python3"
  },
  "language_info": {
   "codemirror_mode": {
    "name": "ipython",
    "version": 3
   },
   "file_extension": ".py",
   "mimetype": "text/x-python",
   "name": "python",
   "nbconvert_exporter": "python",
   "pygments_lexer": "ipython3",
   "version": "3.7.3"
  }
 },
 "nbformat": 4,
 "nbformat_minor": 5
}
