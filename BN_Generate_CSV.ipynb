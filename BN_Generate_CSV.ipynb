{
 "cells": [
  {
   "cell_type": "code",
   "execution_count": 1,
   "metadata": {},
   "outputs": [],
   "source": [
    "\n",
    "import data_prep_stack_barplots as prep \n",
    "import pandas as pd\n",
    "import plotly.express as px\n",
    "import plotly.graph_objects as go\n",
    "import random\n",
    "\n",
    "from qiime2.plugins import feature_table\n",
    "from qiime2 import Artifact\n"
   ]
  },
  {
   "cell_type": "code",
   "execution_count": 2,
   "metadata": {},
   "outputs": [],
   "source": [
    "# NOTE: THESE DATA IMPORTS WILL NOT WORK IF YOU WANT TO MESS WITH THIS YOU HAVE TO CHANGE THIS TO THE LOCATION OF THE \n",
    "# DATA ON YOUR DEVICE\n",
    "tax = pd.read_csv(\"taxonomy.tsv\", sep='\\t')\n",
    "tax[['kingdom', 'phylum', 'class', 'order', 'family', 'genus', 'species']] = tax['Taxon'].str.split(';', expand=True)\n",
    "tax.shape\n",
    "tax.set_index('Feature ID', inplace=True)"
   ]
  },
  {
   "cell_type": "code",
   "execution_count": 3,
   "metadata": {},
   "outputs": [],
   "source": [
    "# NOTE: THESE DATA IMPORTS WILL NOT WORK IF YOU WANT TO MESS WITH THIS YOU HAVE TO CHANGE THIS TO THE LOCATION OF THE \n",
    "# DATA ON YOUR DEVICE\n",
    "unrarefied_table = Artifact.load('table.qza')\n",
    "rarefy_result = feature_table.methods.rarefy(table=unrarefied_table, sampling_depth=100)\n",
    "rarefied_table = rarefy_result.rarefied_table\n",
    "\n",
    "t = rarefied_table.view(pd.DataFrame)\n"
   ]
  },
  {
   "cell_type": "code",
   "execution_count": 4,
   "metadata": {},
   "outputs": [],
   "source": [
    "kingdom_df, phylum_df, class_df, order_df, family_df, genus_df, species_df = prep.prepare_data_stacked_barplots(t, tax)"
   ]
  },
  {
   "cell_type": "code",
   "execution_count": 5,
   "metadata": {},
   "outputs": [],
   "source": [
    "kingdom_df = kingdom_df.reset_index()\n",
    "phylum_df = phylum_df.reset_index()\n",
    "class_df = class_df.reset_index()\n",
    "order_df = order_df.reset_index()\n",
    "family_df = family_df.reset_index()\n",
    "genus_df = genus_df.reset_index()\n",
    "species_df = species_df.reset_index()\n",
    "\n",
    "kingdom_df.to_csv('kingdom.csv')\n",
    "phylum_df.to_csv('phylum.csv')\n",
    "class_df.to_csv('class.csv')\n",
    "order_df.to_csv('order.csv')\n",
    "family_df.to_csv('family.csv')\n",
    "genus_df.to_csv('genus.csv')\n",
    "species_df.to_csv('species.csv')"
   ]
  },
  {
   "cell_type": "code",
   "execution_count": null,
   "metadata": {},
   "outputs": [],
   "source": []
  },
  {
   "cell_type": "code",
   "execution_count": null,
   "metadata": {},
   "outputs": [],
   "source": []
  }
 ],
 "metadata": {
  "kernelspec": {
   "display_name": "Python 3",
   "language": "python",
   "name": "python3"
  },
  "language_info": {
   "codemirror_mode": {
    "name": "ipython",
    "version": 3
   },
   "file_extension": ".py",
   "mimetype": "text/x-python",
   "name": "python",
   "nbconvert_exporter": "python",
   "pygments_lexer": "ipython3",
   "version": "3.6.12"
  }
 },
 "nbformat": 4,
 "nbformat_minor": 4
}
