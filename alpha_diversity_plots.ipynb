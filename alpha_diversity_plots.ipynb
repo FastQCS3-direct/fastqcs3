{
 "cells": [
  {
   "cell_type": "code",
   "execution_count": null,
   "id": "supported-punch",
   "metadata": {},
   "outputs": [],
   "source": [
    "# Import Libraries\n",
    "import pandas as pd"
   ]
  },
  {
   "cell_type": "code",
   "execution_count": null,
   "id": "satisfied-guess",
   "metadata": {},
   "outputs": [],
   "source": [
    "def alpha_diversity_plot():\n",
    "    \"\"\"function that loads and cleans alpha diversity metrics into dataframe for use in dash boxplot\"\"\"\n",
    "    # Loading and cleaning alpha diversity metrics\n",
    "    shannon = pd.read_csv('shannon-alpha-diversity.tsv', sep='\\t')\n",
    "    shannon.columns = ['sample-id','shannon_entropy']\n",
    "\n",
    "    faith = pd.read_csv('faith-alpha-diversity.tsv', sep='\\t')\n",
    "    faith.columns = ['sample-id','faith_diversity']\n",
    "\n",
    "    pielou = pd.read_csv('pielou-alpha-diversity.tsv', sep='\\t')\n",
    "    pielou.columns = ['sample-id','pielou_evenness']\n",
    "\n",
    "    observed = pd.read_csv('observed-features-alpha-diversity.tsv', sep='\\t')\n",
    "    observed.columns = ['sample-id','observed_features']\n",
    "    \n",
    "    # Load metadata from QIIME2 and append diversity metrics\n",
    "    alpha_metadata = pd.read_csv('metadata.tsv', sep='\\t')\n",
    "    alpha_metadata = alpha_metadata.drop(alpha_metadata.index[0])\n",
    "    alpha_metadata = alpha_metadata.reset_index(drop=True)\n",
    "    alpha_metadata = alpha_metadata.merge(shannon,how='outer')\n",
    "    alpha_metadata = alpha_metadata.merge(faith,how='outer')\n",
    "    alpha_metadata = alpha_metadata.merge(pielou,how='outer')\n",
    "    alpha_metadata = alpha_metadata.merge(observed,how='outer')\n",
    "    return alpha_metadata"
   ]
  },
  {
   "cell_type": "code",
   "execution_count": null,
   "id": "optimum-banking",
   "metadata": {},
   "outputs": [],
   "source": [
    "def test_alpha_diversity_plot():\n",
    "    \n",
    "    return"
   ]
  },
  {
   "cell_type": "code",
   "execution_count": null,
   "id": "starting-commission",
   "metadata": {},
   "outputs": [],
   "source": [
    "import dash\n",
    "import dash_core_components as dcc\n",
    "import dash_html_components as html\n",
    "from dash.dependencies import Input, Output\n",
    "import plotly.express as px\n",
    "\n",
    "df = alpha_diversity_plot()\n",
    "\n",
    "app = dash.Dash(__name__)\n",
    "\n",
    "app.layout = html.Div([\n",
    "    html.P(\"x-axis:\"),\n",
    "    dcc.RadioItems(\n",
    "        id='x-axis', \n",
    "        options=[{'value': x, 'label': x}  \n",
    "                 for x in df.columns],\n",
    "        value='subject', \n",
    "        labelStyle={'display': 'inline-block'}\n",
    "    ),\n",
    "    html.P(\"y-axis:\"),\n",
    "    dcc.RadioItems(\n",
    "        id='y-axis', \n",
    "        options=[{'value': x, 'label': x} \n",
    "                 for x in ['shannon_entropy','faith_diversity','pielou_evenness','observed_features']],\n",
    "        value='shannon_entropy', \n",
    "        labelStyle={'display': 'inline-block'}\n",
    "    ),\n",
    "    dcc.Graph(id=\"box-plot\"),\n",
    "])\n",
    "\n",
    "@app.callback(\n",
    "    Output(\"box-plot\", \"figure\"), \n",
    "    [Input(\"x-axis\", \"value\"), \n",
    "     Input(\"y-axis\", \"value\")])\n",
    "def generate_chart(x, y):\n",
    "    fig = px.box(df, x=x, y=y)\n",
    "    return fig\n",
    "\n",
    "app.run_server(debug=True, use_reloader=False)"
   ]
  },
  {
   "cell_type": "code",
   "execution_count": null,
   "id": "korean-finder",
   "metadata": {},
   "outputs": [],
   "source": []
  }
 ],
 "metadata": {
  "kernelspec": {
   "display_name": "Python 3",
   "language": "python",
   "name": "python3"
  },
  "language_info": {
   "codemirror_mode": {
    "name": "ipython",
    "version": 3
   },
   "file_extension": ".py",
   "mimetype": "text/x-python",
   "name": "python",
   "nbconvert_exporter": "python",
   "pygments_lexer": "ipython3",
   "version": "3.7.3"
  }
 },
 "nbformat": 4,
 "nbformat_minor": 5
}
