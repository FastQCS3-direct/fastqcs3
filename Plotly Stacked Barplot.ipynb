{
 "cells": [
  {
   "cell_type": "code",
   "execution_count": 10,
   "metadata": {},
   "outputs": [],
   "source": [
    "\n",
    "import data_prep_stack_barplots as prep \n",
    "import pandas as pd\n",
    "import plotly.express as px\n",
    "import plotly.graph_objects as go\n",
    "import random\n",
    "\n",
    "from qiime2.plugins import feature_table\n",
    "from qiime2 import Artifact\n"
   ]
  },
  {
   "cell_type": "code",
   "execution_count": 14,
   "metadata": {},
   "outputs": [],
   "source": [
    "# NOTE: THESE DATA IMPORTS WILL NOT WORK IF YOU WANT TO MESS WITH THIS YOU HAVE TO CHANGE THIS TO THE LOCATION OF THE \n",
    "# DATA ON YOUR DEVICE\n",
    "tax = pd.read_csv(\"taxonomy.tsv\", sep='\\t')\n",
    "tax[['kingdom', 'phylum', 'class', 'order', 'family', 'genus', 'species']] = tax['Taxon'].str.split(';', expand=True)\n",
    "tax.shape\n",
    "tax.set_index('Feature ID', inplace=True)"
   ]
  },
  {
   "cell_type": "code",
   "execution_count": 15,
   "metadata": {},
   "outputs": [],
   "source": [
    "# NOTE: THESE DATA IMPORTS WILL NOT WORK IF YOU WANT TO MESS WITH THIS YOU HAVE TO CHANGE THIS TO THE LOCATION OF THE \n",
    "# DATA ON YOUR DEVICE\n",
    "unrarefied_table = Artifact.load('table.qza')\n",
    "rarefy_result = feature_table.methods.rarefy(table=unrarefied_table, sampling_depth=100)\n",
    "rarefied_table = rarefy_result.rarefied_table\n",
    "\n",
    "t = rarefied_table.view(pd.DataFrame)\n"
   ]
  },
  {
   "cell_type": "code",
   "execution_count": 16,
   "metadata": {},
   "outputs": [],
   "source": [
    "kingdom_df, phylum_df, class_df, order_df, family_df, genus_df, species_df = prep.prepare_data_stacked_barplots(t, tax)"
   ]
  },
  {
   "cell_type": "code",
   "execution_count": null,
   "metadata": {},
   "outputs": [],
   "source": [
    "phylum_df.head()"
   ]
  },
  {
   "cell_type": "code",
   "execution_count": null,
   "metadata": {
    "scrolled": false
   },
   "outputs": [],
   "source": [
    "fig = go.Figure()\n",
    "\n",
    "for item, col in kingdom_df.iteritems():\n",
    "    fig.add_trace(go.Bar(name=item, x=col.index, y=col))\n",
    "\n",
    "fig.update_layout(barmode='stack')\n",
    "fig.update_layout(title_text='Kingdom Stacked Barplots', title_x=0.33)\n",
    "fig.update_xaxes(title_text='Sample')\n",
    "fig.update_yaxes(title_text='Relative Frequency')\n",
    "fig.show()\n",
    "  "
   ]
  },
  {
   "cell_type": "code",
   "execution_count": null,
   "metadata": {},
   "outputs": [],
   "source": [
    "fig = go.Figure()\n",
    "\n",
    "for item, col in phylum_df.iteritems():\n",
    "    fig.add_trace(go.Bar(name=item, x=col.index, y=col))\n",
    "\n",
    "fig.update_layout(barmode='stack')\n",
    "fig.update_layout(title_text='Phylum Stacked Barplots', title_x=0.33)\n",
    "fig.update_xaxes(title_text='Sample')\n",
    "fig.update_yaxes(title_text='Relative Frequency')\n",
    "fig.show()"
   ]
  },
  {
   "cell_type": "code",
   "execution_count": null,
   "metadata": {},
   "outputs": [],
   "source": [
    "fig = go.Figure()\n",
    "\n",
    "for item, col in class_df.iteritems():\n",
    "    fig.add_trace(go.Bar(name=item, x=col.index, y=col))\n",
    "\n",
    "fig.update_layout(barmode='stack')\n",
    "fig.update_layout(title_text='Class Stacked Barplots', title_x=0.33)\n",
    "fig.update_xaxes(title_text='Sample')\n",
    "fig.update_yaxes(title_text='Relative Frequency')\n",
    "fig.show()\n",
    "    "
   ]
  },
  {
   "cell_type": "code",
   "execution_count": null,
   "metadata": {},
   "outputs": [],
   "source": [
    "fig = go.Figure()\n",
    "\n",
    "for item, col in order_df.iteritems():\n",
    "    fig.add_trace(go.Bar(name=item, x=col.index, y=col))\n",
    "\n",
    "fig.update_layout(barmode='stack')\n",
    "fig.update_layout(title_text='Order Stacked Barplots', title_x=0.33)\n",
    "fig.update_xaxes(title_text='Sample')\n",
    "fig.update_yaxes(title_text='Relative Frequency')\n",
    "fig.show()"
   ]
  },
  {
   "cell_type": "code",
   "execution_count": null,
   "metadata": {},
   "outputs": [],
   "source": [
    "fig = go.Figure()\n",
    "\n",
    "for item, col in family_df.iteritems():\n",
    "    fig.add_trace(go.Bar(name=item, x=col.index, y=col))\n",
    "\n",
    "fig.update_layout(barmode='stack')\n",
    "fig.update_layout(title_text='Family Stacked Barplots', title_x=0.33)\n",
    "fig.update_xaxes(title_text='Sample')\n",
    "fig.update_yaxes(title_text='Relative Frequency')\n",
    "fig.show()"
   ]
  },
  {
   "cell_type": "code",
   "execution_count": null,
   "metadata": {},
   "outputs": [],
   "source": [
    "fig = go.Figure()\n",
    "\n",
    "for item, col in genus_df.iteritems():\n",
    "    fig.add_trace(go.Bar(name=item, x=col.index, y=col))\n",
    "\n",
    "fig.update_layout(barmode='stack')\n",
    "fig.update_layout(title_text='Genus Stacked Barplots', title_x=0.33)\n",
    "fig.update_xaxes(title_text='Sample')\n",
    "fig.update_yaxes(title_text='Relative Frequency')\n",
    "fig.show()"
   ]
  },
  {
   "cell_type": "code",
   "execution_count": null,
   "metadata": {},
   "outputs": [],
   "source": [
    "fig = go.Figure()\n",
    "\n",
    "for item, col in species_df.iteritems():\n",
    "    fig.add_trace(go.Bar(name=item, x=col.index, y=col))\n",
    "\n",
    "fig.update_layout(barmode='stack')\n",
    "fig.update_layout(title_text='Species Stacked Barplots', title_x=0.33)\n",
    "fig.update_xaxes(title_text='Sample')\n",
    "fig.update_yaxes(title_text='Relative Frequency')\n",
    "fig.show()"
   ]
  },
  {
   "cell_type": "code",
   "execution_count": null,
   "metadata": {},
   "outputs": [],
   "source": []
  }
 ],
 "metadata": {
  "kernelspec": {
   "display_name": "Python 3",
   "language": "python",
   "name": "python3"
  },
  "language_info": {
   "codemirror_mode": {
    "name": "ipython",
    "version": 3
   },
   "file_extension": ".py",
   "mimetype": "text/x-python",
   "name": "python",
   "nbconvert_exporter": "python",
   "pygments_lexer": "ipython3",
   "version": "3.6.12"
  }
 },
 "nbformat": 4,
 "nbformat_minor": 4
}
