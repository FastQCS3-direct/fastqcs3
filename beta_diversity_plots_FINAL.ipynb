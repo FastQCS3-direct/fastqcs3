{
 "cells": [
  {
   "cell_type": "code",
   "execution_count": null,
   "id": "interior-jaguar",
   "metadata": {},
   "outputs": [],
   "source": [
    "# Import libraries\n",
    "import pandas as pd\n",
    "from skbio.stats.ordination import pcoa\n",
    "import plotly.express as px"
   ]
  },
  {
   "cell_type": "code",
   "execution_count": null,
   "id": "arbitrary-wallpaper",
   "metadata": {},
   "outputs": [],
   "source": [
    "def bray_beta_diversity_clean(directory):\n",
    "    \"\"\"function that cleans data and generates final data frame for bray-curtis pcoa beta diversity plots\"\"\"\n",
    "    # Load and clean metadata\n",
    "    metadata = pd.read_csv(directory+'/metadata.tsv', sep='\\t')\n",
    "    metadata = metadata.drop(metadata.index[0])\n",
    "    metadata = metadata.reset_index(drop=True)\n",
    "    \n",
    "    # Bray Curtis\n",
    "    bray = pd.read_csv(directory+'/bray-distance-matrix.tsv', sep='\\t', index_col=0)\n",
    "    bray_different_index = pd.read_csv(directory+'/bray-distance-matrix.tsv', sep='\\t')\n",
    "    bray_distance_matrix = bray.rename_axis('sample-id', axis=\"columns\")\n",
    "    \n",
    "    # PCOA Analysis and result matrix\n",
    "    bray_pcoa = pcoa(bray_distance_matrix);\n",
    "    bray_final_results = bray_pcoa.samples\n",
    "    bray_final_results = bray_final_results.reset_index()\n",
    "    \n",
    "    # Cleaning sample ids to join to result matrix\n",
    "    bray_sample_id = bray_different_index[['Unnamed: 0']]\n",
    "    bray_sample_id = bray_sample_id.rename(columns={'Unnamed: 0':'sample-id'})\n",
    "    bray_sample_id = bray_sample_id.reset_index()\n",
    "    \n",
    "    # Constructing final matrix with PCoA results AND metadata\n",
    "    bray_pcoa_results = bray_sample_id.join(bray_final_results, on='index', lsuffix='l',rsuffix='r')\n",
    "    bray_pcoa_results = bray_pcoa_results.drop(labels = ['indexl','indexr'],axis=1)\n",
    "    bray_metadata_to_plot = metadata.merge(bray_pcoa_results,how='outer')\n",
    "    return bray_metadata_to_plot"
   ]
  },
  {
   "cell_type": "code",
   "execution_count": null,
   "id": "excellent-postage",
   "metadata": {},
   "outputs": [],
   "source": [
    "def unifrac_beta_diversity_clean(directory):\n",
    "    \"\"\"function that cleans data and generates final data frame for weighted unifrac pcoa beta diversity plots\"\"\"\n",
    "    # Load and clean metadata\n",
    "    metadata = pd.read_csv(directory+'/metadata.tsv', sep='\\t')\n",
    "    metadata = metadata.drop(metadata.index[0])\n",
    "    metadata = metadata.reset_index(drop=True)\n",
    "    \n",
    "    # Weighted Unifrac\n",
    "    unifrac = pd.read_csv(directory+'/unifrac-distance-matrix.tsv', sep='\\t',index_col=0)\n",
    "    unifrac_different_index = pd.read_csv(directory+'/unifrac-distance-matrix.tsv', sep='\\t')\n",
    "    unifrac_distance_matrix = unifrac.rename_axis('sample-id',axis='columns')\n",
    "    \n",
    "    # PCOA Analysis and result matrix\n",
    "    unifrac_pcoa = pcoa(unifrac_distance_matrix);\n",
    "    unifrac_final_results = unifrac_pcoa.samples\n",
    "    unifrac_final_results = unifrac_final_results.reset_index()\n",
    "    \n",
    "    # Cleaning sample ids to join to result matrix\n",
    "    unifrac_sample_id = unifrac_different_index[['Unnamed: 0']]\n",
    "    unifrac_sample_id = unifrac_sample_id.rename(columns={'Unnamed: 0':'sample-id'})\n",
    "    unifrac_sample_id = unifrac_sample_id.reset_index()\n",
    "    \n",
    "    # Constructing final matrix with PCoA Results AND metadata\n",
    "    unifrac_pcoa_results = unifrac_sample_id.join(unifrac_final_results, on='index', lsuffix='l',rsuffix='r')\n",
    "    unifrac_pcoa_results = unifrac_pcoa_results.drop(labels = ['indexl','indexr'],axis=1)\n",
    "    unifrac_metadata_to_plot = metadata.merge(unifrac_pcoa_results,how='outer')\n",
    "    return unifrac_metadata_to_plot"
   ]
  },
  {
   "cell_type": "code",
   "execution_count": null,
   "id": "studied-poker",
   "metadata": {},
   "outputs": [],
   "source": [
    "bray_metadata_to_plot=bray_beta_diversity_clean()"
   ]
  },
  {
   "cell_type": "code",
   "execution_count": null,
   "id": "differential-potter",
   "metadata": {},
   "outputs": [],
   "source": [
    "unifrac_metadata_to_plot=unifrac_beta_diversity_clean()"
   ]
  },
  {
   "cell_type": "code",
   "execution_count": null,
   "id": "stopped-textbook",
   "metadata": {},
   "outputs": [],
   "source": [
    "def test_bray_beta_diversity_clean_1():\n",
    "    \"\"\"test function to check output is of type pandas dataframe\"\"\"\n",
    "    bray_metadata_to_plot=bray_beta_diversity_clean('data')\n",
    "    assert isinstance(bray_metadata_to_plot,pd.core.frame.DataFrame),\"not returning df\"\n",
    "\n",
    "def test_bray_beta_diversity_clean_2():\n",
    "    \"\"\"test function to check that Unnamed: 0 column has been removed from final DF\"\"\"\n",
    "    try:\n",
    "        bray_metadata_to_plot=bray_beta_diversity_clean('data')\n",
    "        bray_metadata_to_plot['Unnamed: 0']\n",
    "    except Exception as e:\n",
    "        assert isinstance(e, 'KeyError'), \"unnamed column still present\"\n",
    "        # should throw key error since unnamed column was removed\n",
    "        \n",
    "def test_bray_beta_diversity_clean_3():\n",
    "    \"\"\"test function to check that metadata and PC results were merged/both present in output\"\"\"\n",
    "    bray_metadata_to_plot=bray_beta_diversity_clean('data')\n",
    "    if 'body-site' in bray_metadata_to_plot.columns:\n",
    "        result = 1\n",
    "    if 'PC1' in bray_metadata_to_plot.columns:\n",
    "        result = 2\n",
    "    assert result == 2, \"dataframe merge issues: missing metadata OR PC1\"\n",
    "    # output df should contain columns from both the PCOA analysis and metadata"
   ]
  },
  {
   "cell_type": "code",
   "execution_count": null,
   "id": "joint-young",
   "metadata": {},
   "outputs": [],
   "source": [
    "def test_unifrac_beta_diversity_clean_1():\n",
    "    \"\"\"test function to check output is of type pandas dataframe\"\"\"\n",
    "    unifrac_metadata_to_plot=unifrac_beta_diversity_clean('data')\n",
    "    assert isinstance(unifrac_metadata_to_plot,pd.core.frame.DataFrame),\"not returning df\"\n",
    "\n",
    "def test_unifrac_beta_diversity_clean_2():\n",
    "    \"\"\"test function to check that Unnamed: 0 column has been removed from final DF\"\"\"\n",
    "    try:\n",
    "        unifrac_metadata_to_plot=unifrac_beta_diversity_clean('data')\n",
    "        unifrac_metadata_to_plot['Unnamed: 0']\n",
    "    except Exception as e:\n",
    "        assert isinstance(e, 'KeyError'), \"unnamed column still present\"\n",
    "        # should throw key error since unnamed column was removed\n",
    "        \n",
    "def test_unifrac_beta_diversity_clean_3():\n",
    "    \"\"\"test function to check that metadata and PC results were merged/both present in output\"\"\"\n",
    "    unifrac_metadata_to_plot=unifrac_beta_diversity_clean('data')\n",
    "    if 'body-site' and 'PC1' in unifrac_metadata_to_plot.columns:\n",
    "        result = 1\n",
    "    else:\n",
    "        result = 0\n",
    "    assert result == 1, \"dataframe merge issues: missing metadata OR PC1\"\n",
    "    # output df should contain columns from both the PCOA analysis and metadata\n",
    "    \n",
    "def test_unifrac_beta_diversity_clean_4():\n",
    "    \"\"\"test function to check that the metadata is the same between both beta diversity functions\"\"\"\n",
    "    bray_metadata_to_plot=bray_beta_diversity_clean('data')\n",
    "    unifrac_metadata_to_plot=unifrac_beta_diversity_clean('data')\n",
    "    assert unifrac_metadata_to_plot['body-site'].all() == bray_metadata_to_plot['body-site'].all()\n",
    "    \n",
    "def test_unifrac_beta_diversity_clean_5():\n",
    "    \"\"\"test function to check that beta diversity metric PCOA analyses are not identical\"\"\"\n",
    "    bray_metadata_to_plot=bray_beta_diversity_clean('data')\n",
    "    unifrac_metadata_to_plot=unifrac_beta_diversity_clean('data')\n",
    "    false = bray_metadata_to_plot.iloc[1,9] == unifrac_metadata_to_plot.iloc[1,9]\n",
    "    assert false == False, \"bray curtis equals weighted unifrac\""
   ]
  },
  {
   "cell_type": "code",
   "execution_count": null,
   "id": "sized-kuwait",
   "metadata": {},
   "outputs": [],
   "source": [
    "fig = px.scatter_3d(bray_metadata_to_plot, x='PC1', y='PC2', z='PC3', color='body-site')\n",
    "fig.show()"
   ]
  },
  {
   "cell_type": "code",
   "execution_count": null,
   "id": "intellectual-accounting",
   "metadata": {},
   "outputs": [],
   "source": [
    "fig = px.scatter_3d(unifrac_metadata_to_plot, x='PC1', y='PC2', z='PC3', color='body-site')\n",
    "fig.show()"
   ]
  }
 ],
 "metadata": {
  "kernelspec": {
   "display_name": "Python 3",
   "language": "python",
   "name": "python3"
  },
  "language_info": {
   "codemirror_mode": {
    "name": "ipython",
    "version": 3
   },
   "file_extension": ".py",
   "mimetype": "text/x-python",
   "name": "python",
   "nbconvert_exporter": "python",
   "pygments_lexer": "ipython3",
   "version": "3.7.3"
  }
 },
 "nbformat": 4,
 "nbformat_minor": 5
}
