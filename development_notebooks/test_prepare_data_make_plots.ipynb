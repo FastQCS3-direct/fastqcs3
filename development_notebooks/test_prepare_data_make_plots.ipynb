{
 "cells": [
  {
   "cell_type": "code",
   "execution_count": 30,
   "metadata": {},
   "outputs": [],
   "source": [
    "from make_plots import get_scores, sum_scores, plot_qualities#, plotly_stacked_barplot\n",
    "from data_prep_stack_barplots import reduce_taxonomy_df, make_taxon_list, make_tax_dfs, fill_tax_dfs, prepare_data_stacked_barplots\n",
    "import pandas as pd\n",
    "import plotly.graph_objects as go\n"
   ]
  },
  {
   "cell_type": "code",
   "execution_count": null,
   "metadata": {},
   "outputs": [],
   "source": [
    "def test_reduce_taxonomy_df():\n",
    "    d = {'col1': ['a', 'b', 'c'], 'Taxon':[1, 2, 3], 'Confidence': [4, 5, 6]}\n",
    "    df = pd.DataFrame(data=d)\n",
    "    result = reduce_taxonomy_df(df)\n",
    "    d_red = {'col1': ['a', 'b', 'c']}\n",
    "    answer = pd.DataFrame(d_red)\n",
    "    assert answer.equals(result), 'taxonomy DataFrame is not being properly reduced'\n",
    "    d = {'Taxon':[1, 2, 3], 'col2': ['a', 'b', 'c'], 'Confidence': [4, 5, 6]}\n",
    "    df = pd.DataFrame(data=d)\n",
    "    result = reduce_taxonomy_df(df)\n",
    "    d_red = {'col2': ['a', 'b', 'c']}\n",
    "    answer = pd.DataFrame(d_red)\n",
    "    assert answer.equals(result), 'taxonomy DataFrame is not being properly reduced'\n",
    "    d = {'Taxon':[1, 2, 3], 'Confidence': [4, 5, 6], 'col3': ['a', 'b', 'c']}\n",
    "    df = pd.DataFrame(data=d)\n",
    "    result = reduce_taxonomy_df(df)\n",
    "    d_red = {'col3': ['a', 'b', 'c']}\n",
    "    answer = pd.DataFrame(d_red)\n",
    "    assert answer.equals(result), 'taxonomy DataFrame is not being properly reduced'\n",
    "    return"
   ]
  },
  {
   "cell_type": "code",
   "execution_count": null,
   "metadata": {},
   "outputs": [],
   "source": [
    "def test_make_taxon_list():\n",
    "    d = {'Feature ID': ['feat1', 'feat2', 'feat3'], 'kingom':['bacteria', 'bacteria', 'archaea'], \n",
    "         'phylum':['bacteriodetes', 'firmicutes', 'proteobacteria'], 'class':['bacilli', 'bacilli', 'bacilli'], \n",
    "         'order':['bacteroidia', 'bacteroidia', 'bacteroidia'], 'family':['Bacteroidaceae', 'Neisseriaceae', 'Neisseriaceae'],\n",
    "         'genus': ['Neisseria', 'Neisseria', 'Neisseria'], 'species': ['species1', None, None]}\n",
    "    df = pd.DataFrame(data=d)\n",
    "    df.set_index('Feature ID', inplace=True)\n",
    "    df.head()\n",
    "    result = make_taxon_list(df)\n",
    "    answer = [['bacteria', 'archaea'], ['bacteriodetes', 'firmicutes', 'proteobacteria'], ['bacilli'], ['bacteroidia'], ['Bacteroidaceae', 'Neisseriaceae'],\n",
    "             ['Neisseria'], ['species1', None]]\n",
    "    assert answer == result, 'unique taxons are not being properly counted or stored in make_taxon_list'\n",
    "    return"
   ]
  },
  {
   "cell_type": "code",
   "execution_count": 31,
   "metadata": {},
   "outputs": [],
   "source": [
    "def test_make_tax_dfs():\n",
    "    taxon_list = [['bacteria', 'archaea'], ['bacteriodetes', 'firmicutes', 'proteobacteria'], ['bacilli'], ['bacteroidia'], ['Bacteroidaceae', 'Neisseriaceae'],\n",
    "             ['Neisseria'], ['species1', None]]\n",
    "    feat_tab = {'':['samp1', 'samp2', 'samp3'], 'feat1':[0.0, 25.0, 0.0], 'feat2':[50.0, 25.0, 0.0], 'feat3':[50.0, 50.0, 100.0]}    \n",
    "    feat_tab_df = pd.DataFrame(data=feat_tab)\n",
    "    feat_tab_df.set_index('', inplace=True)\n",
    "    kingdom_result, phylum_result, class_result, order_result, family_result, genus_result, species_result = make_tax_dfs(taxon_list, feat_tab_df)\n",
    "    kingdom_ans = pd.DataFrame(data={'':['samp1', 'samp2', 'samp3'], 'bacteria':[0.0, 0.0, 0.0], 'archaea':[0.0, 0.0, 0.0]})\n",
    "    kingdom_ans.set_index('', inplace=True)\n",
    "    assert kingdom_result.equals(kingdom_ans), 'taxonomy kingdom dataframe is not being properly initialized in make_tax_dfs'\n",
    "    phylum_ans = pd.DataFrame(data={'':['samp1', 'samp2', 'samp3'], 'bacteriodetes':[0.0, 0.0, 0.0], 'firmicutes':[0.0, 0.0, 0.0], 'proteobacteria':[0.0, 0.0, 0.0]})\n",
    "    phylum_ans.set_index('', inplace=True)\n",
    "    assert phylum_result.equals(phylum_ans), 'taxonomy phylum dataframe is not being properly initialized in make_tax_dfs'\n",
    "    class_ans = pd.DataFrame(data={'':['samp1', 'samp2', 'samp3'], 'bacilli':[0.0, 0.0, 0.0]})\n",
    "    class_ans.set_index('', inplace=True)\n",
    "    assert class_result.equals(class_ans), 'taxonomy class dataframe is not being properly initialized in make_tax_dfs'\n",
    "    order_ans = pd.DataFrame(data={'':['samp1', 'samp2', 'samp3'], 'bacteroidia':[0.0, 0.0, 0.0]})\n",
    "    order_ans.set_index('', inplace=True)\n",
    "    assert order_result.equals(order_ans), 'taxonomy order dataframe is not being properly initialized in make_tax_dfs'\n",
    "    family_ans = pd.DataFrame(data={'':['samp1', 'samp2', 'samp3'], 'Bacteroidaceae':[0.0, 0.0, 0.0], 'Neisseriaceae':[0.0, 0.0, 0.0]})\n",
    "    family_ans.set_index('', inplace=True)\n",
    "    assert family_result.equals(family_ans), 'taxonomy family dataframe is not being properly initialized in make_tax_dfs'\n",
    "    genus_ans = pd.DataFrame(data={'':['samp1', 'samp2', 'samp3'], 'Neisseria':[0.0, 0.0, 0.0]})\n",
    "    genus_ans.set_index('', inplace=True)\n",
    "    assert genus_result.equals(genus_ans), 'taxonomy genus dataframe is not being properly initialized in make_tax_dfs'\n",
    "    species_ans = pd.DataFrame(data={'':['samp1', 'samp2', 'samp3'], 'species1':[0.0, 0.0, 0.0], None :[0.0, 0.0, 0.0]})\n",
    "    species_ans.set_index('', inplace=True)\n",
    "    assert species_result.equals(species_ans), 'taxonomy species dataframe is not being properly initialized in make_tax_dfs'\n",
    "    return"
   ]
  },
  {
   "cell_type": "code",
   "execution_count": 33,
   "metadata": {},
   "outputs": [],
   "source": [
    "def test_fill_tax_dfs():\n",
    "    taxon_list = [['bacteria', 'archaea'], ['bacteriodetes', 'firmicutes', 'proteobacteria'], ['bacilli'], ['bacteroidia'], ['Bacteroidaceae', 'Neisseriaceae'],\n",
    "             ['Neisseria'], ['species1', None]]\n",
    "    tax = {'Feature ID': ['feat1', 'feat2', 'feat3'], 'kingom':['bacteria', 'bacteria', 'archaea'], \n",
    "         'phylum':['bacteriodetes', 'firmicutes', 'proteobacteria'], 'class':['bacilli', 'bacilli', 'bacilli'], \n",
    "         'order':['bacteroidia', 'bacteroidia', 'bacteroidia'], 'family':['Bacteroidaceae', 'Neisseriaceae', 'Neisseriaceae'],\n",
    "         'genus': ['Neisseria', 'Neisseria', 'Neisseria'], 'species': ['species1', None, None]}\n",
    "    tax_df = pd.DataFrame(data=tax)\n",
    "    tax_df.set_index('Feature ID', inplace=True)\n",
    "    feat_tab = {'':['samp1', 'samp2', 'samp3'], 'feat1':[0.0, 25.0, 0.0], 'feat2':[50.0, 25.0, 0.0], 'feat3':[50.0, 50.0, 100.0]}  \n",
    "    feat_tab_df = pd.DataFrame(data=feat_tab)\n",
    "    feat_tab_df.set_index('', inplace=True)\n",
    "    kingdom_result, phylum_result, class_result, order_result, family_result, genus_result, species_result = make_tax_dfs(taxon_list, feat_tab_df)\n",
    "    kingdom_filled, phylum_filled, class_filled, order_filled, family_filled, genus_filled, species_filled = fill_tax_dfs(kingdom_result, phylum_result, class_result, order_result, \n",
    "                                                                                                                          family_result, genus_result, species_result,feat_tab_df, tax_df)\n",
    "    kingdom_ans = pd.DataFrame(data={'':['samp1', 'samp2', 'samp3'], 'bacteria':[0.5, 0.5, 0.0], 'archaea':[0.5, 0.5, 1.0]})\n",
    "    kingdom_ans.set_index('', inplace=True)\n",
    "    assert kingdom_filled.equals(kingdom_ans), 'taxonomy kingdom dataframe is not being properly filled in fill_tax_dfs'\n",
    "    phylum_ans = pd.DataFrame(data={'':['samp1', 'samp2', 'samp3'], 'bacteriodetes':[0.0, 0.25, 0.0], 'firmicutes':[0.5, 0.25, 0.0], 'proteobacteria':[0.5, 0.5, 1.0]})\n",
    "    phylum_ans.set_index('', inplace=True)\n",
    "    assert phylum_filled.equals(phylum_ans), 'taxonomy phylum dataframe is not being properly filled in fill_tax_dfs'\n",
    "    class_ans = pd.DataFrame(data={'':['samp1', 'samp2', 'samp3'], 'bacilli':[1.0, 1.0, 1.0]})\n",
    "    class_ans.set_index('', inplace=True)\n",
    "    assert class_filled.equals(class_ans), 'taxonomy class dataframe is not being properly filled in fill_tax_dfs'\n",
    "    order_ans = pd.DataFrame(data={'':['samp1', 'samp2', 'samp3'], 'bacteroidia':[1.0, 1.0, 1.0]})\n",
    "    order_ans.set_index('', inplace=True)\n",
    "    assert order_filled.equals(order_ans), 'taxonomy order dataframe is not being properly filled in fill_tax_dfs'\n",
    "    family_ans = pd.DataFrame(data={'':['samp1', 'samp2', 'samp3'], 'Bacteroidaceae':[0.0, 0.25, 0.0], 'Neisseriaceae':[1.0, 0.75, 1.0]})\n",
    "    family_ans.set_index('', inplace=True)\n",
    "    assert family_filled.equals(family_ans), 'taxonomy family dataframe is not being properly filled in fill_tax_dfs'\n",
    "    genus_ans = pd.DataFrame(data={'':['samp1', 'samp2', 'samp3'], 'Neisseria':[1.0, 1.0, 1.0]})\n",
    "    genus_ans.set_index('', inplace=True)\n",
    "    assert genus_filled.equals(genus_ans), 'taxonomy genus dataframe is not being properly filled in fill_tax_dfs'\n",
    "    species_ans = pd.DataFrame(data={'':['samp1', 'samp2', 'samp3'], 'species1':[0.0, 0.25, 0.0], None :[1.0, 0.75, 1.0]})\n",
    "    species_ans.set_index('', inplace=True)\n",
    "    assert species_filled.equals(species_ans), 'taxonomy species dataframe is not being properly filled in fill_tax_dfs'\n",
    "    return"
   ]
  },
  {
   "cell_type": "code",
   "execution_count": null,
   "metadata": {},
   "outputs": [],
   "source": [
    "def test_get_scores_1():\n",
    "    \"\"\"This function checks the datatype of the output score\"\"\"\n",
    "    filename = '../jdm_sample_seqs/12_S12_L001_R1_001.fastq.gz'\n",
    "    depth = 1000\n",
    "    result = get_scores(filename, depth)\n",
    "    assert isinstance(result, pd.DataFrame), 'scores are \\\n",
    "    not being output as a dataframe'\n",
    "    return"
   ]
  },
  {
   "cell_type": "code",
   "execution_count": null,
   "metadata": {},
   "outputs": [],
   "source": [
    "test_get_scores_1()"
   ]
  },
  {
   "cell_type": "code",
   "execution_count": null,
   "metadata": {},
   "outputs": [],
   "source": [
    "def test_sum_scores_1():\n",
    "    \"\"\"This function checks the datatype of the objects returned\n",
    "    by the sum_scores function\"\"\"\n",
    "    directory = '../jdm_sample_seqs/'\n",
    "    depth = 1000\n",
    "    read_pos, sum_df = sum_scores(directory, depth)\n",
    "    assert isinstance(read_pos, list) and isinstance(\n",
    "        sum_df, pd.DataFrame), f'sum_scores function is returning \\\n",
    "    objects that look like {type(read_pos)} and {type(sum_df)}'\n",
    "    return"
   ]
  },
  {
   "cell_type": "code",
   "execution_count": null,
   "metadata": {},
   "outputs": [],
   "source": [
    "test_sum_scores_1()"
   ]
  },
  {
   "cell_type": "code",
   "execution_count": null,
   "metadata": {},
   "outputs": [],
   "source": [
    "def test_plot_qualities_1():\n",
    "    \"\"\"This function checks the datatype of the figure object\n",
    "    returned by the plot_qualities function\"\"\"\n",
    "    directory = '../jdm_sample_seqs/'\n",
    "    depth = 1000\n",
    "    fig = plot_qualities(directory, depth)\n",
    "    assert isinstance(fig, go.Figure), 'the \\\n",
    "    figure being returned is not the type of object we expect'\n",
    "    return"
   ]
  },
  {
   "cell_type": "code",
   "execution_count": null,
   "metadata": {},
   "outputs": [],
   "source": [
    "test_plot_qualities_1()"
   ]
  },
  {
   "cell_type": "code",
   "execution_count": null,
   "metadata": {},
   "outputs": [],
   "source": []
  }
 ],
 "metadata": {
  "kernelspec": {
   "display_name": "Python 3",
   "language": "python",
   "name": "python3"
  },
  "language_info": {
   "codemirror_mode": {
    "name": "ipython",
    "version": 3
   },
   "file_extension": ".py",
   "mimetype": "text/x-python",
   "name": "python",
   "nbconvert_exporter": "python",
   "pygments_lexer": "ipython3",
   "version": "3.6.12"
  }
 },
 "nbformat": 4,
 "nbformat_minor": 5
}
