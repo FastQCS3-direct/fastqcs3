{
 "cells": [
  {
   "cell_type": "code",
   "execution_count": 1,
   "metadata": {},
   "outputs": [],
   "source": [
    "import subprocess\n",
    "import make_plots\n",
    "import data_prep_stack_barplots as prep\n",
    "import pandas as pd\n",
    "import plotly.express as px\n",
    "import plotly.graph_objects as go\n",
    "from qiime2.plugins import feature_table\n",
    "from qiime2 import Artifact"
   ]
  },
  {
   "cell_type": "code",
   "execution_count": 3,
   "metadata": {},
   "outputs": [
    {
     "name": "stdout",
     "output_type": "stream",
     "text": [
      "Directory of .fastq files:emp-single-end-sequences\n",
      "Sequencing trim length:120\n",
      "Desired sampling depth:100\n"
     ]
    },
    {
     "data": {
      "text/plain": [
       "(770, 9)"
      ]
     },
     "execution_count": 3,
     "metadata": {},
     "output_type": "execute_result"
    }
   ],
   "source": [
    "def auto_qiime(directory,trimlength):\n",
    "    \"\"\"function to run auto qiime2 bash script, outputs data in appropriate form to work with for plotting\"\"\"\n",
    "    subprocess.run(['bash','-c','bash auto_qiime.sh '+directory+' '+trimlength])\n",
    "\n",
    "\"\"\"takes inputs of directory of .fastq files, trim length, and sampling depth for running the auto qiime script and creating quality plots\"\"\"\n",
    "directory=input('Directory of .fastq files:')\n",
    "trimlength=input('Sequencing trim length:')\n",
    "if trimlength.isdigit():\n",
    "    pass\n",
    "else:\n",
    "    raise TypeError('trim length input must be a positive integer')\n",
    "\n",
    "samp_depth = input(\"Desired sampling depth:\")\n",
    "if samp_depth.isdigit():\n",
    "    samp_depth = int(samp_depth)\n",
    "else:\n",
    "    raise TypeError('sampling depth must be a positive integer')\n",
    "\n",
    "\"\"\"runs auto_qiime function\"\"\"\n",
    "auto_qiime(directory,trimlength)\n",
    "\n",
    "\"\"\"read in newly created taxonomy data file to pandas\"\"\"\n",
    "taxonomy = pd.read_csv(\"data/taxonomy.tsv\", sep='\\t')\n",
    "taxonomy[['kingdom', 'phylum', 'class', 'order', 'family', 'genus', 'species']] = taxonomy['Taxon'].str.split(';', expand=True)\n",
    "taxonomy.set_index('Feature ID', inplace=True)\n",
    "taxonomy.shape\n",
    "\n",
    "\"\"\"reads in table.qza file from qiime2 into DataFrame\"\"\"\n",
    "unrarefied_table = Artifact.load('table.qza')\n",
    "rarefy_result = feature_table.methods.rarefy(table=unrarefied_table, sampling_depth=samp_depth)\n",
    "rarefied_table = rarefy_result.rarefied_table\n",
    "table = rarefied_table.view(pd.DataFrame)\n",
    "\n",
    "# add in any other data structures that need to be read in\n",
    "\n",
    "\n",
    "\"\"\"pre process data for relative abundance stacked bar plots\"\"\"\n",
    "kingdom_df, phylum_df, class_df, order_df, family_df, genus_df, species_df = prep.prepare_data_stacked_barplots(table, taxonomy)\n",
    "\n",
    "\"\"\"create plotly figures\"\"\"\n",
    "king_plot = make_plots.plotly_stacked_barplot(kingdom_df, 'Kingdom Relative Abundances')\n",
    "phy_plot = make_plots.plotly_stacked_barplot(phylum_df, 'Phylum Relative Abundances')\n",
    "class_plot = make_plots.plotly_stacked_barplot(class_df, 'Class Relative Abundances')\n",
    "ord_plot = make_plots.plotly_stacked_barplot(order_df, 'Order Relative Abundances')\n",
    "fam_plot = make_plots.plotly_stacked_barplot(family_df, 'Family Relative Abundances')\n",
    "gen_plot = make_plots.plotly_stacked_barplot(genus_df, 'Genus Relative Abundances')\n",
    "spec_plot = make_plots.plotly_stacked_barplot(species_df, 'Species Relative Abundances')\n",
    "\n",
    "qual_plot = make_plots.plot_qualities(directory, samp_depth)"
   ]
  },
  {
   "cell_type": "code",
   "execution_count": 6,
   "metadata": {},
   "outputs": [],
   "source": [
    "\"\"\"reads in table.qza file from qiime2 into DataFrame\"\"\"\n",
    "unrarefied_table = Artifact.load('outputs/table.qza')\n",
    "rarefy_result = feature_table.methods.rarefy(table=unrarefied_table, sampling_depth=samp_depth)\n",
    "rarefied_table = rarefy_result.rarefied_table\n",
    "tabl = rarefied_table.view(pd.DataFrame)\n"
   ]
  },
  {
   "cell_type": "code",
   "execution_count": 7,
   "metadata": {},
   "outputs": [],
   "source": [
    "# \"\"\"read in newly created taxonomy data file to pandas\"\"\"\n",
    "# taxonomy = pd.read_csv(\"data/taxonomy.tsv\", sep='\\t')\n",
    "# taxonomy[['kingdom', 'phylum', 'class', 'order', 'family', 'genus', 'species']] = taxonomy['Taxon'].str.split(';', expand=True)\n",
    "# taxonomy.set_index('Feature ID', inplace=True)\n",
    "\n",
    "# \"\"\"reads in table.qza file from qiime2 into DataFrame\"\"\"\n",
    "# unrarefied_table = Artifact.load('table.qza')\n",
    "# rarefy_result = feature_table.methods.rarefy(table=unrarefied_table, sampling_depth=samp_depth)\n",
    "# rarefied_table = rarefy_result.rarefied_table\n",
    "# tabl = rarefied_table.view(pd.DataFrame)\n",
    "\n",
    "# # add in any other data structures that need to be read in\n",
    "\n",
    "\n",
    "\"\"\"pre process data for relative abundance stacked bar plots\"\"\"\n",
    "kingdom_df, phylum_df, class_df, order_df, family_df, genus_df, species_df = prep.prepare_data_stacked_barplots(tabl, taxonomy)\n",
    "\n",
    "\"\"\"create plotly figures\"\"\"\n",
    "king_plot = make_plots.plotly_stacked_barplot(kingdom_df, 'Kingdom Relative Abundances')\n",
    "phy_plot = make_plots.plotly_stacked_barplot(phylum_df, 'Phylum Relative Abundances')\n",
    "class_plot = make_plots.plotly_stacked_barplot(class_df, 'Class Relative Abundances')\n",
    "ord_plot = make_plots.plotly_stacked_barplot(order_df, 'Order Relative Abundances')\n",
    "fam_plot = make_plots.plotly_stacked_barplot(family_df, 'Family Relative Abundances')\n",
    "gen_plot = make_plots.plotly_stacked_barplot(genus_df, 'Genus Relative Abundances')\n",
    "spec_plot = make_plots.plotly_stacked_barplot(species_df, 'Species Relative Abundances')\n",
    "\n",
    "qual_plot = make_plots.plot_qualities(directory, samp_depth)"
   ]
  },
  {
   "cell_type": "code",
   "execution_count": 10,
   "metadata": {},
   "outputs": [
    {
     "data": {
      "application/vnd.plotly.v1+json": {
       "config": {
        "plotlyServerURL": "https://plot.ly"
       },
       "data": [
        {
         "fill": "toself",
         "fillcolor": "rgba(244, 0, 0,0.3)",
         "line": {
          "width": 0
         },
         "mode": "none",
         "name": "error highly likely",
         "showlegend": false,
         "type": "scatter",
         "x": [
          0,
          0,
          152,
          152
         ],
         "y": [
          0,
          20,
          20,
          0
         ]
        },
        {
         "fill": "toself",
         "fillcolor": "rgba(244, 122, 0,0.2)",
         "line": {
          "width": 0
         },
         "mode": "none",
         "name": "likely to contain an error",
         "showlegend": false,
         "type": "scatter",
         "x": [
          0,
          0,
          152,
          152
         ],
         "y": [
          20,
          28,
          28,
          20
         ]
        },
        {
         "fill": "toself",
         "fillcolor": "rgba(0, 244, 0,0.2)",
         "line": {
          "width": 0
         },
         "mode": "none",
         "name": "likely no error",
         "showlegend": false,
         "type": "scatter",
         "x": [
          0,
          0,
          152,
          152
         ],
         "y": [
          28,
          40,
          40,
          28
         ]
        },
        {
         "error_y": {
          "array": [
           2.28217821782178,
           2.2475247524752504,
           2.183168316831683,
           4.71782178217822,
           15.519801980198018,
           4.688118811881189,
           4.504950495049506,
           6.89108910891089,
           5.7871287128712865,
           5.28217821782178,
           5.118811881188115,
           4.955445544554458,
           null,
           null,
           null,
           null,
           null,
           null,
           null,
           null,
           null,
           null,
           null,
           null,
           null,
           null,
           null,
           null,
           null,
           null,
           null,
           null,
           null,
           null,
           null,
           null,
           null,
           null,
           null,
           null,
           null,
           null,
           null,
           null,
           null,
           null,
           null,
           null,
           null,
           null,
           null,
           null,
           null,
           null,
           null,
           null,
           null,
           null,
           null,
           null,
           null,
           null,
           null,
           null,
           null,
           null,
           null,
           null,
           null,
           null,
           null,
           null,
           null,
           null,
           null,
           null,
           null,
           null,
           null,
           null,
           null,
           null,
           null,
           null,
           null,
           null,
           null,
           null,
           null,
           null,
           null,
           null,
           null,
           null,
           null,
           null,
           null,
           null,
           null,
           null,
           null,
           null,
           null,
           null,
           null,
           null,
           null,
           null,
           null,
           null,
           null,
           null,
           null,
           null,
           null,
           null,
           null,
           null,
           null,
           null,
           null,
           null,
           null,
           null,
           null,
           null,
           null,
           null,
           null,
           null,
           null,
           null,
           null,
           null,
           null,
           null,
           null,
           null,
           null,
           null,
           null,
           null,
           null,
           null,
           null,
           null,
           null,
           null,
           null,
           null,
           null,
           null
          ],
          "arrayminus": [
           9.71694647749462,
           11.25969040975396,
           10.51948359132545,
           14.834069889855177,
           37.97667013577002,
           11.890473325757707,
           12.786231747690698,
           24.174985298819312,
           14.886451242741433,
           14.441482549444444,
           13.860680242591975,
           12.56449611555595,
           null,
           null,
           null,
           null,
           null,
           null,
           null,
           null,
           null,
           null,
           null,
           null,
           null,
           null,
           null,
           null,
           null,
           null,
           null,
           null,
           null,
           null,
           null,
           null,
           null,
           null,
           null,
           null,
           null,
           null,
           null,
           null,
           null,
           null,
           null,
           null,
           null,
           null,
           null,
           null,
           null,
           null,
           null,
           null,
           null,
           null,
           null,
           null,
           null,
           null,
           null,
           null,
           null,
           null,
           null,
           null,
           null,
           null,
           null,
           null,
           null,
           null,
           null,
           null,
           null,
           null,
           null,
           null,
           null,
           null,
           null,
           null,
           null,
           null,
           null,
           null,
           null,
           null,
           null,
           null,
           null,
           null,
           null,
           null,
           null,
           null,
           null,
           null,
           null,
           null,
           null,
           null,
           null,
           null,
           null,
           null,
           null,
           null,
           null,
           null,
           null,
           null,
           null,
           null,
           null,
           null,
           null,
           null,
           null,
           null,
           null,
           null,
           null,
           null,
           null,
           null,
           null,
           null,
           null,
           null,
           null,
           null,
           null,
           null,
           null,
           null,
           null,
           null,
           null,
           null,
           null,
           null,
           null,
           null,
           null,
           null,
           null,
           null,
           null,
           null
          ],
          "color": "black",
          "symmetric": false,
          "thickness": 1,
          "type": "data"
         },
         "mode": "lines",
         "name": "mean phred",
         "showlegend": false,
         "type": "scatter",
         "x": [
          0,
          1,
          2,
          3,
          4,
          5,
          6,
          7,
          8,
          9,
          10,
          11,
          12,
          13,
          14,
          15,
          16,
          17,
          18,
          19,
          20,
          21,
          22,
          23,
          24,
          25,
          26,
          27,
          28,
          29,
          30,
          31,
          32,
          33,
          34,
          35,
          36,
          37,
          38,
          39,
          40,
          41,
          42,
          43,
          44,
          45,
          46,
          47,
          48,
          49,
          50,
          51,
          52,
          53,
          54,
          55,
          56,
          57,
          58,
          59,
          60,
          61,
          62,
          63,
          64,
          65,
          66,
          67,
          68,
          69,
          70,
          71,
          72,
          73,
          74,
          75,
          76,
          77,
          78,
          79,
          80,
          81,
          82,
          83,
          84,
          85,
          86,
          87,
          88,
          89,
          90,
          91,
          92,
          93,
          94,
          95,
          96,
          97,
          98,
          99,
          100,
          101,
          102,
          103,
          104,
          105,
          106,
          107,
          108,
          109,
          110,
          111,
          112,
          113,
          114,
          115,
          116,
          117,
          118,
          119,
          120,
          121,
          122,
          123,
          124,
          125,
          126,
          127,
          128,
          129,
          130,
          131,
          132,
          133,
          134,
          135,
          136,
          137,
          138,
          139,
          140,
          141,
          142,
          143,
          144,
          145,
          146,
          147,
          148,
          149,
          150,
          151
         ],
         "y": [
          37.71782178217822,
          37.75247524752475,
          37.81683168316832,
          35.28217821782178,
          24.480198019801982,
          35.31188118811881,
          35.495049504950494,
          33.10891089108911,
          34.21287128712871,
          34.71782178217822,
          34.881188118811885,
          35.04455445544554,
          32.31683168316832,
          38.34653465346535,
          38.366336633663366,
          38.495049504950494,
          38.54455445544554,
          37.0990099009901,
          38.67326732673267,
          37.801980198019805,
          38.40594059405941,
          38.28712871287129,
          38.62376237623762,
          38.67326732673267,
          38.42574257425743,
          37.257425742574256,
          37.94059405940594,
          38.772277227722775,
          38.495049504950494,
          38.04950495049505,
          38.05940594059406,
          38.28712871287129,
          38.366336633663366,
          38.366336633663366,
          38.42574257425743,
          37.663366336633665,
          38.17821782178218,
          38.277227722772274,
          37.881188118811885,
          37.54455445544554,
          37.45544554455446,
          38.04950495049505,
          37.53465346534654,
          37.71287128712871,
          37.118811881188115,
          38.01980198019802,
          37.57425742574257,
          38.198019801980195,
          37.26732673267327,
          37.59405940594059,
          38.118811881188115,
          37.23762376237624,
          37.227722772277225,
          38.08910891089109,
          37.83168316831683,
          37.15841584158416,
          37,
          37.396039603960396,
          37.24752475247525,
          37.32673267326733,
          36.91089108910891,
          37.039603960396036,
          36.693069306930695,
          37.396039603960396,
          35.57425742574257,
          36.68316831683168,
          35.801980198019805,
          37.07920792079208,
          35.92079207920792,
          36.08910891089109,
          36.67326732673267,
          35.04950495049505,
          36.039603960396036,
          34.34653465346535,
          33.742574257425744,
          33.43564356435643,
          35.801980198019805,
          33.693069306930695,
          32.613861386138616,
          32.475247524752476,
          32.91089108910891,
          32.13861386138614,
          29.207920792079207,
          32.79207920792079,
          31.326732673267326,
          32.06930693069307,
          32.415841584158414,
          30.861386138613863,
          32.64356435643565,
          32.32673267326733,
          31.861386138613863,
          32.53465346534654,
          32.524752475247524,
          30.168316831683168,
          29.594059405940595,
          28.91089108910891,
          29.92079207920792,
          30.702970297029704,
          31.495049504950494,
          31.336633663366335,
          30.831683168316832,
          29.871287128712872,
          31.22772277227723,
          30.316831683168317,
          30.455445544554454,
          29.85148514851485,
          27.425742574257427,
          28.435643564356436,
          27.722772277227723,
          27.554455445544555,
          28.742574257425744,
          28.584158415841586,
          27.445544554455445,
          25.93069306930693,
          26.77227722772277,
          26.603960396039604,
          24.594059405940595,
          23.85148514851485,
          25.465346534653467,
          25.663366336633665,
          24.02970297029703,
          21.99009900990099,
          23.683168316831683,
          21.485148514851485,
          23.07920792079208,
          20.663366336633665,
          20.95049504950495,
          21.435643564356436,
          17.900990099009903,
          18.138613861386137,
          17.435643564356436,
          13.405940594059405,
          13.445544554455445,
          12.03960396039604,
          11,
          11.05940594059406,
          10.732673267326733,
          8.970297029702971,
          4.762376237623762,
          5.425742574257426,
          4.099009900990099,
          3.287128712871287,
          3.4554455445544554,
          3.3069306930693068,
          3.4653465346534653,
          3.099009900990099,
          3.4554455445544554,
          3.0693069306930694,
          3.227722772277228,
          3.3564356435643563,
          3.00990099009901,
          3.386138613861386
         ]
        }
       ],
       "layout": {
        "template": {
         "data": {
          "bar": [
           {
            "error_x": {
             "color": "#2a3f5f"
            },
            "error_y": {
             "color": "#2a3f5f"
            },
            "marker": {
             "line": {
              "color": "#E5ECF6",
              "width": 0.5
             }
            },
            "type": "bar"
           }
          ],
          "barpolar": [
           {
            "marker": {
             "line": {
              "color": "#E5ECF6",
              "width": 0.5
             }
            },
            "type": "barpolar"
           }
          ],
          "carpet": [
           {
            "aaxis": {
             "endlinecolor": "#2a3f5f",
             "gridcolor": "white",
             "linecolor": "white",
             "minorgridcolor": "white",
             "startlinecolor": "#2a3f5f"
            },
            "baxis": {
             "endlinecolor": "#2a3f5f",
             "gridcolor": "white",
             "linecolor": "white",
             "minorgridcolor": "white",
             "startlinecolor": "#2a3f5f"
            },
            "type": "carpet"
           }
          ],
          "choropleth": [
           {
            "colorbar": {
             "outlinewidth": 0,
             "ticks": ""
            },
            "type": "choropleth"
           }
          ],
          "contour": [
           {
            "colorbar": {
             "outlinewidth": 0,
             "ticks": ""
            },
            "colorscale": [
             [
              0,
              "#0d0887"
             ],
             [
              0.1111111111111111,
              "#46039f"
             ],
             [
              0.2222222222222222,
              "#7201a8"
             ],
             [
              0.3333333333333333,
              "#9c179e"
             ],
             [
              0.4444444444444444,
              "#bd3786"
             ],
             [
              0.5555555555555556,
              "#d8576b"
             ],
             [
              0.6666666666666666,
              "#ed7953"
             ],
             [
              0.7777777777777778,
              "#fb9f3a"
             ],
             [
              0.8888888888888888,
              "#fdca26"
             ],
             [
              1,
              "#f0f921"
             ]
            ],
            "type": "contour"
           }
          ],
          "contourcarpet": [
           {
            "colorbar": {
             "outlinewidth": 0,
             "ticks": ""
            },
            "type": "contourcarpet"
           }
          ],
          "heatmap": [
           {
            "colorbar": {
             "outlinewidth": 0,
             "ticks": ""
            },
            "colorscale": [
             [
              0,
              "#0d0887"
             ],
             [
              0.1111111111111111,
              "#46039f"
             ],
             [
              0.2222222222222222,
              "#7201a8"
             ],
             [
              0.3333333333333333,
              "#9c179e"
             ],
             [
              0.4444444444444444,
              "#bd3786"
             ],
             [
              0.5555555555555556,
              "#d8576b"
             ],
             [
              0.6666666666666666,
              "#ed7953"
             ],
             [
              0.7777777777777778,
              "#fb9f3a"
             ],
             [
              0.8888888888888888,
              "#fdca26"
             ],
             [
              1,
              "#f0f921"
             ]
            ],
            "type": "heatmap"
           }
          ],
          "heatmapgl": [
           {
            "colorbar": {
             "outlinewidth": 0,
             "ticks": ""
            },
            "colorscale": [
             [
              0,
              "#0d0887"
             ],
             [
              0.1111111111111111,
              "#46039f"
             ],
             [
              0.2222222222222222,
              "#7201a8"
             ],
             [
              0.3333333333333333,
              "#9c179e"
             ],
             [
              0.4444444444444444,
              "#bd3786"
             ],
             [
              0.5555555555555556,
              "#d8576b"
             ],
             [
              0.6666666666666666,
              "#ed7953"
             ],
             [
              0.7777777777777778,
              "#fb9f3a"
             ],
             [
              0.8888888888888888,
              "#fdca26"
             ],
             [
              1,
              "#f0f921"
             ]
            ],
            "type": "heatmapgl"
           }
          ],
          "histogram": [
           {
            "marker": {
             "colorbar": {
              "outlinewidth": 0,
              "ticks": ""
             }
            },
            "type": "histogram"
           }
          ],
          "histogram2d": [
           {
            "colorbar": {
             "outlinewidth": 0,
             "ticks": ""
            },
            "colorscale": [
             [
              0,
              "#0d0887"
             ],
             [
              0.1111111111111111,
              "#46039f"
             ],
             [
              0.2222222222222222,
              "#7201a8"
             ],
             [
              0.3333333333333333,
              "#9c179e"
             ],
             [
              0.4444444444444444,
              "#bd3786"
             ],
             [
              0.5555555555555556,
              "#d8576b"
             ],
             [
              0.6666666666666666,
              "#ed7953"
             ],
             [
              0.7777777777777778,
              "#fb9f3a"
             ],
             [
              0.8888888888888888,
              "#fdca26"
             ],
             [
              1,
              "#f0f921"
             ]
            ],
            "type": "histogram2d"
           }
          ],
          "histogram2dcontour": [
           {
            "colorbar": {
             "outlinewidth": 0,
             "ticks": ""
            },
            "colorscale": [
             [
              0,
              "#0d0887"
             ],
             [
              0.1111111111111111,
              "#46039f"
             ],
             [
              0.2222222222222222,
              "#7201a8"
             ],
             [
              0.3333333333333333,
              "#9c179e"
             ],
             [
              0.4444444444444444,
              "#bd3786"
             ],
             [
              0.5555555555555556,
              "#d8576b"
             ],
             [
              0.6666666666666666,
              "#ed7953"
             ],
             [
              0.7777777777777778,
              "#fb9f3a"
             ],
             [
              0.8888888888888888,
              "#fdca26"
             ],
             [
              1,
              "#f0f921"
             ]
            ],
            "type": "histogram2dcontour"
           }
          ],
          "mesh3d": [
           {
            "colorbar": {
             "outlinewidth": 0,
             "ticks": ""
            },
            "type": "mesh3d"
           }
          ],
          "parcoords": [
           {
            "line": {
             "colorbar": {
              "outlinewidth": 0,
              "ticks": ""
             }
            },
            "type": "parcoords"
           }
          ],
          "pie": [
           {
            "automargin": true,
            "type": "pie"
           }
          ],
          "scatter": [
           {
            "marker": {
             "colorbar": {
              "outlinewidth": 0,
              "ticks": ""
             }
            },
            "type": "scatter"
           }
          ],
          "scatter3d": [
           {
            "line": {
             "colorbar": {
              "outlinewidth": 0,
              "ticks": ""
             }
            },
            "marker": {
             "colorbar": {
              "outlinewidth": 0,
              "ticks": ""
             }
            },
            "type": "scatter3d"
           }
          ],
          "scattercarpet": [
           {
            "marker": {
             "colorbar": {
              "outlinewidth": 0,
              "ticks": ""
             }
            },
            "type": "scattercarpet"
           }
          ],
          "scattergeo": [
           {
            "marker": {
             "colorbar": {
              "outlinewidth": 0,
              "ticks": ""
             }
            },
            "type": "scattergeo"
           }
          ],
          "scattergl": [
           {
            "marker": {
             "colorbar": {
              "outlinewidth": 0,
              "ticks": ""
             }
            },
            "type": "scattergl"
           }
          ],
          "scattermapbox": [
           {
            "marker": {
             "colorbar": {
              "outlinewidth": 0,
              "ticks": ""
             }
            },
            "type": "scattermapbox"
           }
          ],
          "scatterpolar": [
           {
            "marker": {
             "colorbar": {
              "outlinewidth": 0,
              "ticks": ""
             }
            },
            "type": "scatterpolar"
           }
          ],
          "scatterpolargl": [
           {
            "marker": {
             "colorbar": {
              "outlinewidth": 0,
              "ticks": ""
             }
            },
            "type": "scatterpolargl"
           }
          ],
          "scatterternary": [
           {
            "marker": {
             "colorbar": {
              "outlinewidth": 0,
              "ticks": ""
             }
            },
            "type": "scatterternary"
           }
          ],
          "surface": [
           {
            "colorbar": {
             "outlinewidth": 0,
             "ticks": ""
            },
            "colorscale": [
             [
              0,
              "#0d0887"
             ],
             [
              0.1111111111111111,
              "#46039f"
             ],
             [
              0.2222222222222222,
              "#7201a8"
             ],
             [
              0.3333333333333333,
              "#9c179e"
             ],
             [
              0.4444444444444444,
              "#bd3786"
             ],
             [
              0.5555555555555556,
              "#d8576b"
             ],
             [
              0.6666666666666666,
              "#ed7953"
             ],
             [
              0.7777777777777778,
              "#fb9f3a"
             ],
             [
              0.8888888888888888,
              "#fdca26"
             ],
             [
              1,
              "#f0f921"
             ]
            ],
            "type": "surface"
           }
          ],
          "table": [
           {
            "cells": {
             "fill": {
              "color": "#EBF0F8"
             },
             "line": {
              "color": "white"
             }
            },
            "header": {
             "fill": {
              "color": "#C8D4E3"
             },
             "line": {
              "color": "white"
             }
            },
            "type": "table"
           }
          ]
         },
         "layout": {
          "annotationdefaults": {
           "arrowcolor": "#2a3f5f",
           "arrowhead": 0,
           "arrowwidth": 1
          },
          "autotypenumbers": "strict",
          "coloraxis": {
           "colorbar": {
            "outlinewidth": 0,
            "ticks": ""
           }
          },
          "colorscale": {
           "diverging": [
            [
             0,
             "#8e0152"
            ],
            [
             0.1,
             "#c51b7d"
            ],
            [
             0.2,
             "#de77ae"
            ],
            [
             0.3,
             "#f1b6da"
            ],
            [
             0.4,
             "#fde0ef"
            ],
            [
             0.5,
             "#f7f7f7"
            ],
            [
             0.6,
             "#e6f5d0"
            ],
            [
             0.7,
             "#b8e186"
            ],
            [
             0.8,
             "#7fbc41"
            ],
            [
             0.9,
             "#4d9221"
            ],
            [
             1,
             "#276419"
            ]
           ],
           "sequential": [
            [
             0,
             "#0d0887"
            ],
            [
             0.1111111111111111,
             "#46039f"
            ],
            [
             0.2222222222222222,
             "#7201a8"
            ],
            [
             0.3333333333333333,
             "#9c179e"
            ],
            [
             0.4444444444444444,
             "#bd3786"
            ],
            [
             0.5555555555555556,
             "#d8576b"
            ],
            [
             0.6666666666666666,
             "#ed7953"
            ],
            [
             0.7777777777777778,
             "#fb9f3a"
            ],
            [
             0.8888888888888888,
             "#fdca26"
            ],
            [
             1,
             "#f0f921"
            ]
           ],
           "sequentialminus": [
            [
             0,
             "#0d0887"
            ],
            [
             0.1111111111111111,
             "#46039f"
            ],
            [
             0.2222222222222222,
             "#7201a8"
            ],
            [
             0.3333333333333333,
             "#9c179e"
            ],
            [
             0.4444444444444444,
             "#bd3786"
            ],
            [
             0.5555555555555556,
             "#d8576b"
            ],
            [
             0.6666666666666666,
             "#ed7953"
            ],
            [
             0.7777777777777778,
             "#fb9f3a"
            ],
            [
             0.8888888888888888,
             "#fdca26"
            ],
            [
             1,
             "#f0f921"
            ]
           ]
          },
          "colorway": [
           "#636efa",
           "#EF553B",
           "#00cc96",
           "#ab63fa",
           "#FFA15A",
           "#19d3f3",
           "#FF6692",
           "#B6E880",
           "#FF97FF",
           "#FECB52"
          ],
          "font": {
           "color": "#2a3f5f"
          },
          "geo": {
           "bgcolor": "white",
           "lakecolor": "white",
           "landcolor": "#E5ECF6",
           "showlakes": true,
           "showland": true,
           "subunitcolor": "white"
          },
          "hoverlabel": {
           "align": "left"
          },
          "hovermode": "closest",
          "mapbox": {
           "style": "light"
          },
          "paper_bgcolor": "white",
          "plot_bgcolor": "#E5ECF6",
          "polar": {
           "angularaxis": {
            "gridcolor": "white",
            "linecolor": "white",
            "ticks": ""
           },
           "bgcolor": "#E5ECF6",
           "radialaxis": {
            "gridcolor": "white",
            "linecolor": "white",
            "ticks": ""
           }
          },
          "scene": {
           "xaxis": {
            "backgroundcolor": "#E5ECF6",
            "gridcolor": "white",
            "gridwidth": 2,
            "linecolor": "white",
            "showbackground": true,
            "ticks": "",
            "zerolinecolor": "white"
           },
           "yaxis": {
            "backgroundcolor": "#E5ECF6",
            "gridcolor": "white",
            "gridwidth": 2,
            "linecolor": "white",
            "showbackground": true,
            "ticks": "",
            "zerolinecolor": "white"
           },
           "zaxis": {
            "backgroundcolor": "#E5ECF6",
            "gridcolor": "white",
            "gridwidth": 2,
            "linecolor": "white",
            "showbackground": true,
            "ticks": "",
            "zerolinecolor": "white"
           }
          },
          "shapedefaults": {
           "line": {
            "color": "#2a3f5f"
           }
          },
          "ternary": {
           "aaxis": {
            "gridcolor": "white",
            "linecolor": "white",
            "ticks": ""
           },
           "baxis": {
            "gridcolor": "white",
            "linecolor": "white",
            "ticks": ""
           },
           "bgcolor": "#E5ECF6",
           "caxis": {
            "gridcolor": "white",
            "linecolor": "white",
            "ticks": ""
           }
          },
          "title": {
           "x": 0.05
          },
          "xaxis": {
           "automargin": true,
           "gridcolor": "white",
           "linecolor": "white",
           "ticks": "",
           "title": {
            "standoff": 15
           },
           "zerolinecolor": "white",
           "zerolinewidth": 2
          },
          "yaxis": {
           "automargin": true,
           "gridcolor": "white",
           "linecolor": "white",
           "ticks": "",
           "title": {
            "standoff": 15
           },
           "zerolinecolor": "white",
           "zerolinewidth": 2
          }
         }
        },
        "title": {
         "text": "Mean Phred Quality Scores by Position; Sampling Depth = 100"
        },
        "xaxis": {
         "range": [
          0,
          152
         ],
         "title": {
          "text": "Position (bp)"
         }
        },
        "yaxis": {
         "range": [
          0,
          40
         ],
         "title": {
          "text": "phred quality score"
         }
        }
       }
      },
      "text/html": [
       "<div>                            <div id=\"f9d7b1e8-39eb-45b3-93c9-b59575474728\" class=\"plotly-graph-div\" style=\"height:525px; width:100%;\"></div>            <script type=\"text/javascript\">                require([\"plotly\"], function(Plotly) {                    window.PLOTLYENV=window.PLOTLYENV || {};                                    if (document.getElementById(\"f9d7b1e8-39eb-45b3-93c9-b59575474728\")) {                    Plotly.newPlot(                        \"f9d7b1e8-39eb-45b3-93c9-b59575474728\",                        [{\"fill\": \"toself\", \"fillcolor\": \"rgba(244, 0, 0,0.3)\", \"line\": {\"width\": 0}, \"mode\": \"none\", \"name\": \"error highly likely\", \"showlegend\": false, \"type\": \"scatter\", \"x\": [0, 0, 152, 152], \"y\": [0, 20, 20, 0]}, {\"fill\": \"toself\", \"fillcolor\": \"rgba(244, 122, 0,0.2)\", \"line\": {\"width\": 0}, \"mode\": \"none\", \"name\": \"likely to contain an error\", \"showlegend\": false, \"type\": \"scatter\", \"x\": [0, 0, 152, 152], \"y\": [20, 28, 28, 20]}, {\"fill\": \"toself\", \"fillcolor\": \"rgba(0, 244, 0,0.2)\", \"line\": {\"width\": 0}, \"mode\": \"none\", \"name\": \"likely no error\", \"showlegend\": false, \"type\": \"scatter\", \"x\": [0, 0, 152, 152], \"y\": [28, 40, 40, 28]}, {\"error_y\": {\"array\": [2.28217821782178, 2.2475247524752504, 2.183168316831683, 4.71782178217822, 15.519801980198018, 4.688118811881189, 4.504950495049506, 6.89108910891089, 5.7871287128712865, 5.28217821782178, 5.118811881188115, 4.955445544554458, null, null, null, null, null, null, null, null, null, null, null, null, null, null, null, null, null, null, null, null, null, null, null, null, null, null, null, null, null, null, null, null, null, null, null, null, null, null, null, null, null, null, null, null, null, null, null, null, null, null, null, null, null, null, null, null, null, null, null, null, null, null, null, null, null, null, null, null, null, null, null, null, null, null, null, null, null, null, null, null, null, null, null, null, null, null, null, null, null, null, null, null, null, null, null, null, null, null, null, null, null, null, null, null, null, null, null, null, null, null, null, null, null, null, null, null, null, null, null, null, null, null, null, null, null, null, null, null, null, null, null, null, null, null, null, null, null, null, null, null], \"arrayminus\": [9.71694647749462, 11.25969040975396, 10.51948359132545, 14.834069889855177, 37.97667013577002, 11.890473325757707, 12.786231747690698, 24.174985298819312, 14.886451242741433, 14.441482549444444, 13.860680242591975, 12.56449611555595, null, null, null, null, null, null, null, null, null, null, null, null, null, null, null, null, null, null, null, null, null, null, null, null, null, null, null, null, null, null, null, null, null, null, null, null, null, null, null, null, null, null, null, null, null, null, null, null, null, null, null, null, null, null, null, null, null, null, null, null, null, null, null, null, null, null, null, null, null, null, null, null, null, null, null, null, null, null, null, null, null, null, null, null, null, null, null, null, null, null, null, null, null, null, null, null, null, null, null, null, null, null, null, null, null, null, null, null, null, null, null, null, null, null, null, null, null, null, null, null, null, null, null, null, null, null, null, null, null, null, null, null, null, null, null, null, null, null, null, null], \"color\": \"black\", \"symmetric\": false, \"thickness\": 1, \"type\": \"data\"}, \"mode\": \"lines\", \"name\": \"mean phred\", \"showlegend\": false, \"type\": \"scatter\", \"x\": [0, 1, 2, 3, 4, 5, 6, 7, 8, 9, 10, 11, 12, 13, 14, 15, 16, 17, 18, 19, 20, 21, 22, 23, 24, 25, 26, 27, 28, 29, 30, 31, 32, 33, 34, 35, 36, 37, 38, 39, 40, 41, 42, 43, 44, 45, 46, 47, 48, 49, 50, 51, 52, 53, 54, 55, 56, 57, 58, 59, 60, 61, 62, 63, 64, 65, 66, 67, 68, 69, 70, 71, 72, 73, 74, 75, 76, 77, 78, 79, 80, 81, 82, 83, 84, 85, 86, 87, 88, 89, 90, 91, 92, 93, 94, 95, 96, 97, 98, 99, 100, 101, 102, 103, 104, 105, 106, 107, 108, 109, 110, 111, 112, 113, 114, 115, 116, 117, 118, 119, 120, 121, 122, 123, 124, 125, 126, 127, 128, 129, 130, 131, 132, 133, 134, 135, 136, 137, 138, 139, 140, 141, 142, 143, 144, 145, 146, 147, 148, 149, 150, 151], \"y\": [37.71782178217822, 37.75247524752475, 37.81683168316832, 35.28217821782178, 24.480198019801982, 35.31188118811881, 35.495049504950494, 33.10891089108911, 34.21287128712871, 34.71782178217822, 34.881188118811885, 35.04455445544554, 32.31683168316832, 38.34653465346535, 38.366336633663366, 38.495049504950494, 38.54455445544554, 37.0990099009901, 38.67326732673267, 37.801980198019805, 38.40594059405941, 38.28712871287129, 38.62376237623762, 38.67326732673267, 38.42574257425743, 37.257425742574256, 37.94059405940594, 38.772277227722775, 38.495049504950494, 38.04950495049505, 38.05940594059406, 38.28712871287129, 38.366336633663366, 38.366336633663366, 38.42574257425743, 37.663366336633665, 38.17821782178218, 38.277227722772274, 37.881188118811885, 37.54455445544554, 37.45544554455446, 38.04950495049505, 37.53465346534654, 37.71287128712871, 37.118811881188115, 38.01980198019802, 37.57425742574257, 38.198019801980195, 37.26732673267327, 37.59405940594059, 38.118811881188115, 37.23762376237624, 37.227722772277225, 38.08910891089109, 37.83168316831683, 37.15841584158416, 37.0, 37.396039603960396, 37.24752475247525, 37.32673267326733, 36.91089108910891, 37.039603960396036, 36.693069306930695, 37.396039603960396, 35.57425742574257, 36.68316831683168, 35.801980198019805, 37.07920792079208, 35.92079207920792, 36.08910891089109, 36.67326732673267, 35.04950495049505, 36.039603960396036, 34.34653465346535, 33.742574257425744, 33.43564356435643, 35.801980198019805, 33.693069306930695, 32.613861386138616, 32.475247524752476, 32.91089108910891, 32.13861386138614, 29.207920792079207, 32.79207920792079, 31.326732673267326, 32.06930693069307, 32.415841584158414, 30.861386138613863, 32.64356435643565, 32.32673267326733, 31.861386138613863, 32.53465346534654, 32.524752475247524, 30.168316831683168, 29.594059405940595, 28.91089108910891, 29.92079207920792, 30.702970297029704, 31.495049504950494, 31.336633663366335, 30.831683168316832, 29.871287128712872, 31.22772277227723, 30.316831683168317, 30.455445544554454, 29.85148514851485, 27.425742574257427, 28.435643564356436, 27.722772277227723, 27.554455445544555, 28.742574257425744, 28.584158415841586, 27.445544554455445, 25.93069306930693, 26.77227722772277, 26.603960396039604, 24.594059405940595, 23.85148514851485, 25.465346534653467, 25.663366336633665, 24.02970297029703, 21.99009900990099, 23.683168316831683, 21.485148514851485, 23.07920792079208, 20.663366336633665, 20.95049504950495, 21.435643564356436, 17.900990099009903, 18.138613861386137, 17.435643564356436, 13.405940594059405, 13.445544554455445, 12.03960396039604, 11.0, 11.05940594059406, 10.732673267326733, 8.970297029702971, 4.762376237623762, 5.425742574257426, 4.099009900990099, 3.287128712871287, 3.4554455445544554, 3.3069306930693068, 3.4653465346534653, 3.099009900990099, 3.4554455445544554, 3.0693069306930694, 3.227722772277228, 3.3564356435643563, 3.00990099009901, 3.386138613861386]}],                        {\"template\": {\"data\": {\"bar\": [{\"error_x\": {\"color\": \"#2a3f5f\"}, \"error_y\": {\"color\": \"#2a3f5f\"}, \"marker\": {\"line\": {\"color\": \"#E5ECF6\", \"width\": 0.5}}, \"type\": \"bar\"}], \"barpolar\": [{\"marker\": {\"line\": {\"color\": \"#E5ECF6\", \"width\": 0.5}}, \"type\": \"barpolar\"}], \"carpet\": [{\"aaxis\": {\"endlinecolor\": \"#2a3f5f\", \"gridcolor\": \"white\", \"linecolor\": \"white\", \"minorgridcolor\": \"white\", \"startlinecolor\": \"#2a3f5f\"}, \"baxis\": {\"endlinecolor\": \"#2a3f5f\", \"gridcolor\": \"white\", \"linecolor\": \"white\", \"minorgridcolor\": \"white\", \"startlinecolor\": \"#2a3f5f\"}, \"type\": \"carpet\"}], \"choropleth\": [{\"colorbar\": {\"outlinewidth\": 0, \"ticks\": \"\"}, \"type\": \"choropleth\"}], \"contour\": [{\"colorbar\": {\"outlinewidth\": 0, \"ticks\": \"\"}, \"colorscale\": [[0.0, \"#0d0887\"], [0.1111111111111111, \"#46039f\"], [0.2222222222222222, \"#7201a8\"], [0.3333333333333333, \"#9c179e\"], [0.4444444444444444, \"#bd3786\"], [0.5555555555555556, \"#d8576b\"], [0.6666666666666666, \"#ed7953\"], [0.7777777777777778, \"#fb9f3a\"], [0.8888888888888888, \"#fdca26\"], [1.0, \"#f0f921\"]], \"type\": \"contour\"}], \"contourcarpet\": [{\"colorbar\": {\"outlinewidth\": 0, \"ticks\": \"\"}, \"type\": \"contourcarpet\"}], \"heatmap\": [{\"colorbar\": {\"outlinewidth\": 0, \"ticks\": \"\"}, \"colorscale\": [[0.0, \"#0d0887\"], [0.1111111111111111, \"#46039f\"], [0.2222222222222222, \"#7201a8\"], [0.3333333333333333, \"#9c179e\"], [0.4444444444444444, \"#bd3786\"], [0.5555555555555556, \"#d8576b\"], [0.6666666666666666, \"#ed7953\"], [0.7777777777777778, \"#fb9f3a\"], [0.8888888888888888, \"#fdca26\"], [1.0, \"#f0f921\"]], \"type\": \"heatmap\"}], \"heatmapgl\": [{\"colorbar\": {\"outlinewidth\": 0, \"ticks\": \"\"}, \"colorscale\": [[0.0, \"#0d0887\"], [0.1111111111111111, \"#46039f\"], [0.2222222222222222, \"#7201a8\"], [0.3333333333333333, \"#9c179e\"], [0.4444444444444444, \"#bd3786\"], [0.5555555555555556, \"#d8576b\"], [0.6666666666666666, \"#ed7953\"], [0.7777777777777778, \"#fb9f3a\"], [0.8888888888888888, \"#fdca26\"], [1.0, \"#f0f921\"]], \"type\": \"heatmapgl\"}], \"histogram\": [{\"marker\": {\"colorbar\": {\"outlinewidth\": 0, \"ticks\": \"\"}}, \"type\": \"histogram\"}], \"histogram2d\": [{\"colorbar\": {\"outlinewidth\": 0, \"ticks\": \"\"}, \"colorscale\": [[0.0, \"#0d0887\"], [0.1111111111111111, \"#46039f\"], [0.2222222222222222, \"#7201a8\"], [0.3333333333333333, \"#9c179e\"], [0.4444444444444444, \"#bd3786\"], [0.5555555555555556, \"#d8576b\"], [0.6666666666666666, \"#ed7953\"], [0.7777777777777778, \"#fb9f3a\"], [0.8888888888888888, \"#fdca26\"], [1.0, \"#f0f921\"]], \"type\": \"histogram2d\"}], \"histogram2dcontour\": [{\"colorbar\": {\"outlinewidth\": 0, \"ticks\": \"\"}, \"colorscale\": [[0.0, \"#0d0887\"], [0.1111111111111111, \"#46039f\"], [0.2222222222222222, \"#7201a8\"], [0.3333333333333333, \"#9c179e\"], [0.4444444444444444, \"#bd3786\"], [0.5555555555555556, \"#d8576b\"], [0.6666666666666666, \"#ed7953\"], [0.7777777777777778, \"#fb9f3a\"], [0.8888888888888888, \"#fdca26\"], [1.0, \"#f0f921\"]], \"type\": \"histogram2dcontour\"}], \"mesh3d\": [{\"colorbar\": {\"outlinewidth\": 0, \"ticks\": \"\"}, \"type\": \"mesh3d\"}], \"parcoords\": [{\"line\": {\"colorbar\": {\"outlinewidth\": 0, \"ticks\": \"\"}}, \"type\": \"parcoords\"}], \"pie\": [{\"automargin\": true, \"type\": \"pie\"}], \"scatter\": [{\"marker\": {\"colorbar\": {\"outlinewidth\": 0, \"ticks\": \"\"}}, \"type\": \"scatter\"}], \"scatter3d\": [{\"line\": {\"colorbar\": {\"outlinewidth\": 0, \"ticks\": \"\"}}, \"marker\": {\"colorbar\": {\"outlinewidth\": 0, \"ticks\": \"\"}}, \"type\": \"scatter3d\"}], \"scattercarpet\": [{\"marker\": {\"colorbar\": {\"outlinewidth\": 0, \"ticks\": \"\"}}, \"type\": \"scattercarpet\"}], \"scattergeo\": [{\"marker\": {\"colorbar\": {\"outlinewidth\": 0, \"ticks\": \"\"}}, \"type\": \"scattergeo\"}], \"scattergl\": [{\"marker\": {\"colorbar\": {\"outlinewidth\": 0, \"ticks\": \"\"}}, \"type\": \"scattergl\"}], \"scattermapbox\": [{\"marker\": {\"colorbar\": {\"outlinewidth\": 0, \"ticks\": \"\"}}, \"type\": \"scattermapbox\"}], \"scatterpolar\": [{\"marker\": {\"colorbar\": {\"outlinewidth\": 0, \"ticks\": \"\"}}, \"type\": \"scatterpolar\"}], \"scatterpolargl\": [{\"marker\": {\"colorbar\": {\"outlinewidth\": 0, \"ticks\": \"\"}}, \"type\": \"scatterpolargl\"}], \"scatterternary\": [{\"marker\": {\"colorbar\": {\"outlinewidth\": 0, \"ticks\": \"\"}}, \"type\": \"scatterternary\"}], \"surface\": [{\"colorbar\": {\"outlinewidth\": 0, \"ticks\": \"\"}, \"colorscale\": [[0.0, \"#0d0887\"], [0.1111111111111111, \"#46039f\"], [0.2222222222222222, \"#7201a8\"], [0.3333333333333333, \"#9c179e\"], [0.4444444444444444, \"#bd3786\"], [0.5555555555555556, \"#d8576b\"], [0.6666666666666666, \"#ed7953\"], [0.7777777777777778, \"#fb9f3a\"], [0.8888888888888888, \"#fdca26\"], [1.0, \"#f0f921\"]], \"type\": \"surface\"}], \"table\": [{\"cells\": {\"fill\": {\"color\": \"#EBF0F8\"}, \"line\": {\"color\": \"white\"}}, \"header\": {\"fill\": {\"color\": \"#C8D4E3\"}, \"line\": {\"color\": \"white\"}}, \"type\": \"table\"}]}, \"layout\": {\"annotationdefaults\": {\"arrowcolor\": \"#2a3f5f\", \"arrowhead\": 0, \"arrowwidth\": 1}, \"autotypenumbers\": \"strict\", \"coloraxis\": {\"colorbar\": {\"outlinewidth\": 0, \"ticks\": \"\"}}, \"colorscale\": {\"diverging\": [[0, \"#8e0152\"], [0.1, \"#c51b7d\"], [0.2, \"#de77ae\"], [0.3, \"#f1b6da\"], [0.4, \"#fde0ef\"], [0.5, \"#f7f7f7\"], [0.6, \"#e6f5d0\"], [0.7, \"#b8e186\"], [0.8, \"#7fbc41\"], [0.9, \"#4d9221\"], [1, \"#276419\"]], \"sequential\": [[0.0, \"#0d0887\"], [0.1111111111111111, \"#46039f\"], [0.2222222222222222, \"#7201a8\"], [0.3333333333333333, \"#9c179e\"], [0.4444444444444444, \"#bd3786\"], [0.5555555555555556, \"#d8576b\"], [0.6666666666666666, \"#ed7953\"], [0.7777777777777778, \"#fb9f3a\"], [0.8888888888888888, \"#fdca26\"], [1.0, \"#f0f921\"]], \"sequentialminus\": [[0.0, \"#0d0887\"], [0.1111111111111111, \"#46039f\"], [0.2222222222222222, \"#7201a8\"], [0.3333333333333333, \"#9c179e\"], [0.4444444444444444, \"#bd3786\"], [0.5555555555555556, \"#d8576b\"], [0.6666666666666666, \"#ed7953\"], [0.7777777777777778, \"#fb9f3a\"], [0.8888888888888888, \"#fdca26\"], [1.0, \"#f0f921\"]]}, \"colorway\": [\"#636efa\", \"#EF553B\", \"#00cc96\", \"#ab63fa\", \"#FFA15A\", \"#19d3f3\", \"#FF6692\", \"#B6E880\", \"#FF97FF\", \"#FECB52\"], \"font\": {\"color\": \"#2a3f5f\"}, \"geo\": {\"bgcolor\": \"white\", \"lakecolor\": \"white\", \"landcolor\": \"#E5ECF6\", \"showlakes\": true, \"showland\": true, \"subunitcolor\": \"white\"}, \"hoverlabel\": {\"align\": \"left\"}, \"hovermode\": \"closest\", \"mapbox\": {\"style\": \"light\"}, \"paper_bgcolor\": \"white\", \"plot_bgcolor\": \"#E5ECF6\", \"polar\": {\"angularaxis\": {\"gridcolor\": \"white\", \"linecolor\": \"white\", \"ticks\": \"\"}, \"bgcolor\": \"#E5ECF6\", \"radialaxis\": {\"gridcolor\": \"white\", \"linecolor\": \"white\", \"ticks\": \"\"}}, \"scene\": {\"xaxis\": {\"backgroundcolor\": \"#E5ECF6\", \"gridcolor\": \"white\", \"gridwidth\": 2, \"linecolor\": \"white\", \"showbackground\": true, \"ticks\": \"\", \"zerolinecolor\": \"white\"}, \"yaxis\": {\"backgroundcolor\": \"#E5ECF6\", \"gridcolor\": \"white\", \"gridwidth\": 2, \"linecolor\": \"white\", \"showbackground\": true, \"ticks\": \"\", \"zerolinecolor\": \"white\"}, \"zaxis\": {\"backgroundcolor\": \"#E5ECF6\", \"gridcolor\": \"white\", \"gridwidth\": 2, \"linecolor\": \"white\", \"showbackground\": true, \"ticks\": \"\", \"zerolinecolor\": \"white\"}}, \"shapedefaults\": {\"line\": {\"color\": \"#2a3f5f\"}}, \"ternary\": {\"aaxis\": {\"gridcolor\": \"white\", \"linecolor\": \"white\", \"ticks\": \"\"}, \"baxis\": {\"gridcolor\": \"white\", \"linecolor\": \"white\", \"ticks\": \"\"}, \"bgcolor\": \"#E5ECF6\", \"caxis\": {\"gridcolor\": \"white\", \"linecolor\": \"white\", \"ticks\": \"\"}}, \"title\": {\"x\": 0.05}, \"xaxis\": {\"automargin\": true, \"gridcolor\": \"white\", \"linecolor\": \"white\", \"ticks\": \"\", \"title\": {\"standoff\": 15}, \"zerolinecolor\": \"white\", \"zerolinewidth\": 2}, \"yaxis\": {\"automargin\": true, \"gridcolor\": \"white\", \"linecolor\": \"white\", \"ticks\": \"\", \"title\": {\"standoff\": 15}, \"zerolinecolor\": \"white\", \"zerolinewidth\": 2}}}, \"title\": {\"text\": \"Mean Phred Quality Scores by Position; Sampling Depth = 100\"}, \"xaxis\": {\"range\": [0, 152], \"title\": {\"text\": \"Position (bp)\"}}, \"yaxis\": {\"range\": [0, 40], \"title\": {\"text\": \"phred quality score\"}}},                        {\"responsive\": true}                    ).then(function(){\n",
       "                            \n",
       "var gd = document.getElementById('f9d7b1e8-39eb-45b3-93c9-b59575474728');\n",
       "var x = new MutationObserver(function (mutations, observer) {{\n",
       "        var display = window.getComputedStyle(gd).display;\n",
       "        if (!display || display === 'none') {{\n",
       "            console.log([gd, 'removed!']);\n",
       "            Plotly.purge(gd);\n",
       "            observer.disconnect();\n",
       "        }}\n",
       "}});\n",
       "\n",
       "// Listen for the removal of the full notebook cells\n",
       "var notebookContainer = gd.closest('#notebook-container');\n",
       "if (notebookContainer) {{\n",
       "    x.observe(notebookContainer, {childList: true});\n",
       "}}\n",
       "\n",
       "// Listen for the clearing of the current output cell\n",
       "var outputEl = gd.closest('.output');\n",
       "if (outputEl) {{\n",
       "    x.observe(outputEl, {childList: true});\n",
       "}}\n",
       "\n",
       "                        })                };                });            </script>        </div>"
      ]
     },
     "metadata": {},
     "output_type": "display_data"
    }
   ],
   "source": [
    "qual_plot.show()"
   ]
  },
  {
   "cell_type": "code",
   "execution_count": 36,
   "metadata": {},
   "outputs": [
    {
     "data": {
      "text/html": [
       "<div>\n",
       "<style scoped>\n",
       "    .dataframe tbody tr th:only-of-type {\n",
       "        vertical-align: middle;\n",
       "    }\n",
       "\n",
       "    .dataframe tbody tr th {\n",
       "        vertical-align: top;\n",
       "    }\n",
       "\n",
       "    .dataframe thead th {\n",
       "        text-align: right;\n",
       "    }\n",
       "</style>\n",
       "<table border=\"1\" class=\"dataframe\">\n",
       "  <thead>\n",
       "    <tr style=\"text-align: right;\">\n",
       "      <th></th>\n",
       "      <th>Taxon</th>\n",
       "      <th>Confidence</th>\n",
       "      <th>kingdom</th>\n",
       "      <th>phylum</th>\n",
       "      <th>class</th>\n",
       "      <th>order</th>\n",
       "      <th>family</th>\n",
       "      <th>genus</th>\n",
       "      <th>species</th>\n",
       "    </tr>\n",
       "    <tr>\n",
       "      <th>Feature ID</th>\n",
       "      <th></th>\n",
       "      <th></th>\n",
       "      <th></th>\n",
       "      <th></th>\n",
       "      <th></th>\n",
       "      <th></th>\n",
       "      <th></th>\n",
       "      <th></th>\n",
       "      <th></th>\n",
       "    </tr>\n",
       "  </thead>\n",
       "  <tbody>\n",
       "    <tr>\n",
       "      <th>4b5eeb300368260019c1fbc7a3c718fc</th>\n",
       "      <td>k__Bacteria; p__Bacteroidetes; c__Bacteroidia;...</td>\n",
       "      <td>0.991607</td>\n",
       "      <td>k__Bacteria</td>\n",
       "      <td>p__Bacteroidetes</td>\n",
       "      <td>c__Bacteroidia</td>\n",
       "      <td>o__Bacteroidales</td>\n",
       "      <td>f__Bacteroidaceae</td>\n",
       "      <td>g__Bacteroides</td>\n",
       "      <td>s__</td>\n",
       "    </tr>\n",
       "    <tr>\n",
       "      <th>fe30ff0f71a38a39cf1717ec2be3a2fc</th>\n",
       "      <td>k__Bacteria; p__Proteobacteria; c__Betaproteob...</td>\n",
       "      <td>0.982863</td>\n",
       "      <td>k__Bacteria</td>\n",
       "      <td>p__Proteobacteria</td>\n",
       "      <td>c__Betaproteobacteria</td>\n",
       "      <td>o__Neisseriales</td>\n",
       "      <td>f__Neisseriaceae</td>\n",
       "      <td>g__Neisseria</td>\n",
       "      <td>None</td>\n",
       "    </tr>\n",
       "    <tr>\n",
       "      <th>d29fe3c70564fc0f69f2c03e0d1e5561</th>\n",
       "      <td>k__Bacteria; p__Firmicutes; c__Bacilli; o__Lac...</td>\n",
       "      <td>1.000000</td>\n",
       "      <td>k__Bacteria</td>\n",
       "      <td>p__Firmicutes</td>\n",
       "      <td>c__Bacilli</td>\n",
       "      <td>o__Lactobacillales</td>\n",
       "      <td>f__Streptococcaceae</td>\n",
       "      <td>g__Streptococcus</td>\n",
       "      <td>None</td>\n",
       "    </tr>\n",
       "    <tr>\n",
       "      <th>868528ca947bc57b69ffdf83e6b73bae</th>\n",
       "      <td>k__Bacteria; p__Bacteroidetes; c__Bacteroidia;...</td>\n",
       "      <td>0.985898</td>\n",
       "      <td>k__Bacteria</td>\n",
       "      <td>p__Bacteroidetes</td>\n",
       "      <td>c__Bacteroidia</td>\n",
       "      <td>o__Bacteroidales</td>\n",
       "      <td>f__Bacteroidaceae</td>\n",
       "      <td>g__Bacteroides</td>\n",
       "      <td>s__</td>\n",
       "    </tr>\n",
       "    <tr>\n",
       "      <th>154709e160e8cada6bfb21115acc80f5</th>\n",
       "      <td>k__Bacteria; p__Bacteroidetes; c__Bacteroidia;...</td>\n",
       "      <td>1.000000</td>\n",
       "      <td>k__Bacteria</td>\n",
       "      <td>p__Bacteroidetes</td>\n",
       "      <td>c__Bacteroidia</td>\n",
       "      <td>o__Bacteroidales</td>\n",
       "      <td>f__Bacteroidaceae</td>\n",
       "      <td>g__Bacteroides</td>\n",
       "      <td>None</td>\n",
       "    </tr>\n",
       "  </tbody>\n",
       "</table>\n",
       "</div>"
      ],
      "text/plain": [
       "                                                                              Taxon  \\\n",
       "Feature ID                                                                            \n",
       "4b5eeb300368260019c1fbc7a3c718fc  k__Bacteria; p__Bacteroidetes; c__Bacteroidia;...   \n",
       "fe30ff0f71a38a39cf1717ec2be3a2fc  k__Bacteria; p__Proteobacteria; c__Betaproteob...   \n",
       "d29fe3c70564fc0f69f2c03e0d1e5561  k__Bacteria; p__Firmicutes; c__Bacilli; o__Lac...   \n",
       "868528ca947bc57b69ffdf83e6b73bae  k__Bacteria; p__Bacteroidetes; c__Bacteroidia;...   \n",
       "154709e160e8cada6bfb21115acc80f5  k__Bacteria; p__Bacteroidetes; c__Bacteroidia;...   \n",
       "\n",
       "                                  Confidence      kingdom              phylum  \\\n",
       "Feature ID                                                                      \n",
       "4b5eeb300368260019c1fbc7a3c718fc    0.991607  k__Bacteria    p__Bacteroidetes   \n",
       "fe30ff0f71a38a39cf1717ec2be3a2fc    0.982863  k__Bacteria   p__Proteobacteria   \n",
       "d29fe3c70564fc0f69f2c03e0d1e5561    1.000000  k__Bacteria       p__Firmicutes   \n",
       "868528ca947bc57b69ffdf83e6b73bae    0.985898  k__Bacteria    p__Bacteroidetes   \n",
       "154709e160e8cada6bfb21115acc80f5    1.000000  k__Bacteria    p__Bacteroidetes   \n",
       "\n",
       "                                                   class                order  \\\n",
       "Feature ID                                                                      \n",
       "4b5eeb300368260019c1fbc7a3c718fc          c__Bacteroidia     o__Bacteroidales   \n",
       "fe30ff0f71a38a39cf1717ec2be3a2fc   c__Betaproteobacteria      o__Neisseriales   \n",
       "d29fe3c70564fc0f69f2c03e0d1e5561              c__Bacilli   o__Lactobacillales   \n",
       "868528ca947bc57b69ffdf83e6b73bae          c__Bacteroidia     o__Bacteroidales   \n",
       "154709e160e8cada6bfb21115acc80f5          c__Bacteroidia     o__Bacteroidales   \n",
       "\n",
       "                                                family              genus  \\\n",
       "Feature ID                                                                  \n",
       "4b5eeb300368260019c1fbc7a3c718fc     f__Bacteroidaceae     g__Bacteroides   \n",
       "fe30ff0f71a38a39cf1717ec2be3a2fc      f__Neisseriaceae       g__Neisseria   \n",
       "d29fe3c70564fc0f69f2c03e0d1e5561   f__Streptococcaceae   g__Streptococcus   \n",
       "868528ca947bc57b69ffdf83e6b73bae     f__Bacteroidaceae     g__Bacteroides   \n",
       "154709e160e8cada6bfb21115acc80f5     f__Bacteroidaceae     g__Bacteroides   \n",
       "\n",
       "                                 species  \n",
       "Feature ID                                \n",
       "4b5eeb300368260019c1fbc7a3c718fc     s__  \n",
       "fe30ff0f71a38a39cf1717ec2be3a2fc    None  \n",
       "d29fe3c70564fc0f69f2c03e0d1e5561    None  \n",
       "868528ca947bc57b69ffdf83e6b73bae     s__  \n",
       "154709e160e8cada6bfb21115acc80f5    None  "
      ]
     },
     "execution_count": 36,
     "metadata": {},
     "output_type": "execute_result"
    }
   ],
   "source": [
    "tax2 = pd.read_csv(\"872a0592-bb99-4296-941e-37dbbdff0d7a/data/taxonomy.tsv\", sep='\\t')\n",
    "tax2[['kingdom', 'phylum', 'class', 'order', 'family', 'genus', 'species']] = tax2['Taxon'].str.split(';', expand=True)\n",
    "tax2.set_index('Feature ID', inplace=True)\n",
    "tax2.head()"
   ]
  },
  {
   "cell_type": "code",
   "execution_count": null,
   "metadata": {},
   "outputs": [],
   "source": []
  }
 ],
 "metadata": {
  "kernelspec": {
   "display_name": "Python 3",
   "language": "python",
   "name": "python3"
  },
  "language_info": {
   "codemirror_mode": {
    "name": "ipython",
    "version": 3
   },
   "file_extension": ".py",
   "mimetype": "text/x-python",
   "name": "python",
   "nbconvert_exporter": "python",
   "pygments_lexer": "ipython3",
   "version": "3.6.12"
  }
 },
 "nbformat": 4,
 "nbformat_minor": 4
}
