{
 "cells": [
  {
   "cell_type": "code",
   "execution_count": 2,
   "id": "failing-extent",
   "metadata": {},
   "outputs": [],
   "source": [
    "# Import Data from QIIME2\n",
    "# Find a way to do this that is consistent across all notebooks/all group members?"
   ]
  },
  {
   "cell_type": "code",
   "execution_count": 11,
   "id": "tracked-advertising",
   "metadata": {},
   "outputs": [],
   "source": [
    "# Import Packages\n",
    "import pandas as pd\n",
    "import numpy as np\n",
    "\n",
    "from skbio.stats.distance import DistanceMatrix"
   ]
  },
  {
   "cell_type": "code",
   "execution_count": 24,
   "id": "proved-carbon",
   "metadata": {},
   "outputs": [],
   "source": [
    "# Which distance metrics are we interested in computing and how do I do that? Could build functions to compute OR\n",
    "# QIIME2 does this with their diversity library\n",
    "\n",
    "# 1. Bray Curtis\n",
    "# 2. Unweighted Unifrac\n",
    "# 3. Weighted Unifrac\n",
    "\n",
    "# Any additional ones to focus on?"
   ]
  },
  {
   "cell_type": "code",
   "execution_count": 14,
   "id": "critical-ocean",
   "metadata": {},
   "outputs": [
    {
     "data": {
      "text/html": [
       "<div>\n",
       "<style scoped>\n",
       "    .dataframe tbody tr th:only-of-type {\n",
       "        vertical-align: middle;\n",
       "    }\n",
       "\n",
       "    .dataframe tbody tr th {\n",
       "        vertical-align: top;\n",
       "    }\n",
       "\n",
       "    .dataframe thead th {\n",
       "        text-align: right;\n",
       "    }\n",
       "</style>\n",
       "<table border=\"1\" class=\"dataframe\">\n",
       "  <thead>\n",
       "    <tr style=\"text-align: right;\">\n",
       "      <th></th>\n",
       "      <th>body site</th>\n",
       "      <th>individual</th>\n",
       "    </tr>\n",
       "  </thead>\n",
       "  <tbody>\n",
       "    <tr>\n",
       "      <th>A</th>\n",
       "      <td>gut</td>\n",
       "      <td>subject 1</td>\n",
       "    </tr>\n",
       "    <tr>\n",
       "      <th>B</th>\n",
       "      <td>gut</td>\n",
       "      <td>subject 2</td>\n",
       "    </tr>\n",
       "    <tr>\n",
       "      <th>C</th>\n",
       "      <td>tongue</td>\n",
       "      <td>subject 1</td>\n",
       "    </tr>\n",
       "    <tr>\n",
       "      <th>D</th>\n",
       "      <td>tongue</td>\n",
       "      <td>subject 2</td>\n",
       "    </tr>\n",
       "    <tr>\n",
       "      <th>E</th>\n",
       "      <td>skin</td>\n",
       "      <td>subject 1</td>\n",
       "    </tr>\n",
       "    <tr>\n",
       "      <th>F</th>\n",
       "      <td>skin</td>\n",
       "      <td>subject 2</td>\n",
       "    </tr>\n",
       "  </tbody>\n",
       "</table>\n",
       "</div>"
      ],
      "text/plain": [
       "  body site individual\n",
       "A       gut  subject 1\n",
       "B       gut  subject 2\n",
       "C    tongue  subject 1\n",
       "D    tongue  subject 2\n",
       "E      skin  subject 1\n",
       "F      skin  subject 2"
      ]
     },
     "execution_count": 14,
     "metadata": {},
     "output_type": "execute_result"
    }
   ],
   "source": [
    "# Random tutorial on visualizing similarities?\n",
    "sample_ids = ['A', 'B', 'C', 'D', 'E', 'F']\n",
    "_columns = ['body site', 'individual']\n",
    "_md = [['gut', 'subject 1'],\n",
    "       ['gut', 'subject 2'],\n",
    "       ['tongue', 'subject 1'],\n",
    "       ['tongue', 'subject 2'],\n",
    "       ['skin', 'subject 1'],\n",
    "       ['skin', 'subject 2']]\n",
    "\n",
    "human_microbiome_sample_md = pd.DataFrame(_md, index=sample_ids, columns=_columns)\n",
    "human_microbiome_sample_md"
   ]
  },
  {
   "cell_type": "code",
   "execution_count": 15,
   "id": "needed-signal",
   "metadata": {
    "scrolled": true
   },
   "outputs": [
    {
     "name": "stdout",
     "output_type": "stream",
     "text": [
      "6x6 distance matrix\n",
      "IDs:\n",
      "'A', 'B', 'C', 'D', 'E', 'F'\n",
      "Data:\n",
      "[[0.   0.35 0.83 0.83 0.9  0.9 ]\n",
      " [0.35 0.   0.86 0.85 0.92 0.91]\n",
      " [0.83 0.86 0.   0.25 0.88 0.87]\n",
      " [0.83 0.85 0.25 0.   0.88 0.88]\n",
      " [0.9  0.92 0.88 0.88 0.   0.5 ]\n",
      " [0.9  0.91 0.87 0.88 0.5  0.  ]]\n"
     ]
    }
   ],
   "source": [
    "dm_data = np.array([[0.00, 0.35, 0.83, 0.83, 0.90, 0.90],\n",
    "                 [0.35, 0.00, 0.86, 0.85, 0.92, 0.91],\n",
    "                 [0.83, 0.86, 0.00, 0.25, 0.88, 0.87],\n",
    "                 [0.83, 0.85, 0.25, 0.00, 0.88, 0.88],\n",
    "                 [0.90, 0.92, 0.88, 0.88, 0.00, 0.50],\n",
    "                 [0.90, 0.91, 0.87, 0.88, 0.50, 0.00]])\n",
    "\n",
    "human_microbiome_dm = DistanceMatrix(dm_data, sample_ids)\n",
    "print(human_microbiome_dm)"
   ]
  },
  {
   "cell_type": "code",
   "execution_count": 16,
   "id": "thorough-macedonia",
   "metadata": {},
   "outputs": [],
   "source": [
    "def within_between_category_distributions(dm, md, md_category):\n",
    "    within_category_distances = []\n",
    "    between_category_distances = []\n",
    "    for i, sample_id1 in enumerate(dm.ids):\n",
    "        sample_md1 = md[md_category][sample_id1]\n",
    "        for sample_id2 in dm.ids[:i]:\n",
    "            sample_md2 = md[md_category][sample_id2]\n",
    "            if sample_md1 == sample_md2:\n",
    "                within_category_distances.append(dm[sample_id1, sample_id2])\n",
    "            else:\n",
    "                between_category_distances.append(dm[sample_id1, sample_id2])\n",
    "    return within_category_distances, between_category_distances\n"
   ]
  },
  {
   "cell_type": "code",
   "execution_count": 17,
   "id": "different-luxury",
   "metadata": {},
   "outputs": [
    {
     "name": "stdout",
     "output_type": "stream",
     "text": [
      "[0.35, 0.25, 0.5]\n",
      "[0.83, 0.86, 0.83, 0.85, 0.9, 0.92, 0.88, 0.88, 0.9, 0.91, 0.87, 0.88]\n"
     ]
    }
   ],
   "source": [
    "within_category_distances, between_category_distances = within_between_category_distributions(human_microbiome_dm, human_microbiome_sample_md, \"body site\")\n",
    "print(within_category_distances)\n",
    "print(between_category_distances)"
   ]
  },
  {
   "cell_type": "code",
   "execution_count": 18,
   "id": "beautiful-rider",
   "metadata": {},
   "outputs": [
    {
     "data": {
      "image/png": "[encoded data removed]",
      "text/plain": [
       "<Figure size 432x288 with 1 Axes>"
      ]
     },
     "metadata": {
      "needs_background": "light"
     },
     "output_type": "display_data"
    }
   ],
   "source": [
    "import seaborn as sns\n",
    "ax = sns.boxplot(data=[within_category_distances, between_category_distances])\n",
    "ax.set_xticklabels(['same body habitat', 'different body habitat'])\n",
    "ax.set_ylabel('Unweighted UniFrac Distance')\n",
    "_ = ax.set_ylim(0.0, 1.0)"
   ]
  },
  {
   "cell_type": "code",
   "execution_count": 19,
   "id": "copyrighted-submission",
   "metadata": {},
   "outputs": [
    {
     "data": {
      "image/png": "[encoded data removed]",
      "text/plain": [
       "<Figure size 432x288 with 1 Axes>"
      ]
     },
     "metadata": {
      "needs_background": "light"
     },
     "output_type": "display_data"
    }
   ],
   "source": [
    "from scipy.cluster.hierarchy import average, dendrogram\n",
    "lm = average(human_microbiome_dm.condensed_form())\n",
    "d = dendrogram(lm, labels=human_microbiome_dm.ids, orientation='right',\n",
    "               link_color_func=lambda x: 'black')"
   ]
  },
  {
   "cell_type": "code",
   "execution_count": 20,
   "id": "liable-riverside",
   "metadata": {},
   "outputs": [
    {
     "data": {
      "image/png": "[encoded data removed]",
      "text/plain": [
       "<Figure size 432x288 with 1 Axes>"
      ]
     },
     "metadata": {
      "needs_background": "light"
     },
     "output_type": "display_data"
    }
   ],
   "source": [
    "labels = [human_microbiome_sample_md['body site'][sid] for sid in sample_ids]\n",
    "d = dendrogram(lm, labels=labels, orientation='right',\n",
    "               link_color_func=lambda x: 'black')"
   ]
  },
  {
   "cell_type": "code",
   "execution_count": 23,
   "id": "reasonable-issue",
   "metadata": {},
   "outputs": [],
   "source": [
    "# PCOA: reduces the dimensionality of the DistanceMatrix to make it easier to visualize\n",
    "from skbio.stats.ordination import pcoa"
   ]
  },
  {
   "cell_type": "code",
   "execution_count": null,
   "id": "classified-withdrawal",
   "metadata": {},
   "outputs": [],
   "source": [
    "# run pcoa on distance matrix then plot using cmap\n",
    "# Need a metric to cluster based on -- what does similarity/dissimilarity depend on here? (Latitude, pH, etc.)\n",
    "# How do we input this to the python package?\n",
    "# Metric to show how good of a choice your clustering metric was?\n",
    "from scipy.stats import spearmanr\n",
    "spearman_rho, spearman_p = spearmanr(lauber_soil_unweighted_unifrac_pc.samples['PC1'],\n",
    "                                     lauber_soil_sample_md['Latitude'][lauber_soil_unweighted_unifrac_pc.samples.index])\n",
    "print('rho: %1.3f' % spearman_rho)\n",
    "print('p-value: %1.1e' % spearman_p)"
   ]
  },
  {
   "cell_type": "code",
   "execution_count": null,
   "id": "hourly-boards",
   "metadata": {},
   "outputs": [],
   "source": [
    "# Mantel test--looks at the correlation between distance matrices (bray curtis v. unifrac etc.)"
   ]
  }
 ],
 "metadata": {
  "kernelspec": {
   "display_name": "Python 3",
   "language": "python",
   "name": "python3"
  },
  "language_info": {
   "codemirror_mode": {
    "name": "ipython",
    "version": 3
   },
   "file_extension": ".py",
   "mimetype": "text/x-python",
   "name": "python",
   "nbconvert_exporter": "python",
   "pygments_lexer": "ipython3",
   "version": "3.7.3"
  }
 },
 "nbformat": 4,
 "nbformat_minor": 5
}
